{
 "cells": [
  {
   "cell_type": "markdown",
   "metadata": {},
   "source": [
    "## Домашнее задание № 2 по курсу \"MLOps\"\n",
    "#### Работа с большими данными на Apache Spark\n",
    "##### Автор: Кравченя Павел\n",
    "\n",
    "##### Цели работы:\n",
    "Отработка основных этапов работы с данными с помощью Apache Spark на примере датасета показов ленты социальной сети ``ok.ru``.\n",
    "\n",
    "##### Постановка задачи:\n",
    "\n",
    "1. Ознакомиться с задачей и описанием датасета [SNA Hackathon 2019](https://www.kaggle.com/sharthz23/sna-hackathon-2019-collaboration).\n",
    "\n",
    "2. Скачать [датасет](https://www.kaggle.com/sharthz23/sna-hackathon-2019-collaboration/download).\n",
    "\n",
    "3. Используя Spark:\n",
    "\n",
    "* построить топ популярных групп для каждого типа обьекта;\n",
    "* построить гистограммы популярности/активности по времени суток;\n",
    "* посчитать корреляцию признаков с целевой переменной;\n",
    "* найти другие интересные инсайты в данных.\n",
    "\n",
    "Работа выполнялась с использованием Docker-образа системы ``almond.sh`` с версией ``Scala 2.12`` и ``Spark 2.4``."
   ]
  },
  {
   "cell_type": "markdown",
   "metadata": {},
   "source": [
    "Установим необходимые библиотеки для выполнения вычислений и визуализации."
   ]
  },
  {
   "cell_type": "code",
   "execution_count": 1,
   "metadata": {},
   "outputs": [
    {
     "data": {
      "text/plain": [
       "\u001b[32mimport \u001b[39m\u001b[36m$ivy.$                                   \n",
       "\u001b[39m\n",
       "\u001b[32mimport \u001b[39m\u001b[36m$ivy.$                                  \n",
       "\u001b[39m\n",
       "\u001b[32mimport \u001b[39m\u001b[36m$ivy.$                                      \n",
       "\u001b[39m\n",
       "\u001b[32mimport \u001b[39m\u001b[36m$ivy.$                                    \n",
       "\u001b[39m\n",
       "\u001b[32mimport \u001b[39m\u001b[36mplotly._, plotly.element._, plotly.layout._, plotly.Almond._\n",
       "\u001b[39m\n",
       "\u001b[32mimport \u001b[39m\u001b[36morg.apache.spark.sql._\n",
       "\u001b[39m\n",
       "\u001b[32mimport \u001b[39m\u001b[36morg.apache.log4j.{Level, Logger}\n",
       "\u001b[39m\n",
       "\u001b[32mimport \u001b[39m\u001b[36morg.apache.spark.sql.functions.array_contains\n",
       "\u001b[39m\n",
       "\u001b[32mimport \u001b[39m\u001b[36morg.apache.spark.sql.functions._\n",
       "\u001b[39m\n",
       "\u001b[32mimport \u001b[39m\u001b[36morg.apache.spark.sql.expressions.Window\n",
       "\u001b[39m\n",
       "\u001b[32mimport \u001b[39m\u001b[36morg.apache.spark.sql.functions.{collect_list, collect_set}\n",
       "\u001b[39m\n",
       "\u001b[32mimport \u001b[39m\u001b[36mscala.collection.mutable.WrappedArray\u001b[39m"
      ]
     },
     "execution_count": 1,
     "metadata": {},
     "output_type": "execute_result"
    }
   ],
   "source": [
    "import $ivy.`org.apache.spark::spark-core:2.4.0`\n",
    "import $ivy.`org.apache.spark::spark-sql:2.4.0`\n",
    "import $ivy.`org.plotly-scala::plotly-almond:0.8.2`\n",
    "import $ivy.`org.apache.spark::spark-mllib:2.4.0`\n",
    "import plotly._, plotly.element._, plotly.layout._, plotly.Almond._\n",
    "import org.apache.spark.sql._\n",
    "import org.apache.log4j.{Level, Logger}\n",
    "import org.apache.spark.sql.functions.array_contains\n",
    "import org.apache.spark.sql.functions._\n",
    "import org.apache.spark.sql.expressions.Window\n",
    "import org.apache.spark.sql.functions.{collect_list, collect_set}\n",
    "import scala.collection.mutable.WrappedArray"
   ]
  },
  {
   "cell_type": "markdown",
   "metadata": {},
   "source": [
    "Установим необходимый уровень логирования сообщений и создадим Spark-сессию."
   ]
  },
  {
   "cell_type": "code",
   "execution_count": 2,
   "metadata": {},
   "outputs": [
    {
     "name": "stdout",
     "output_type": "stream",
     "text": [
      "Loading spark-stubs\n",
      "Getting spark JARs\n",
      "Creating SparkSession\n"
     ]
    },
    {
     "name": "stderr",
     "output_type": "stream",
     "text": [
      "Using Spark's default log4j profile: org/apache/spark/log4j-defaults.properties\n"
     ]
    },
    {
     "data": {
      "text/html": [
       "<a target=\"_blank\" href=\"http://4e0ecf73573e:4040\">Spark UI</a>"
      ]
     },
     "metadata": {},
     "output_type": "display_data"
    },
    {
     "data": {
      "text/plain": [
       "\u001b[36mspark\u001b[39m: \u001b[32mSparkSession\u001b[39m = org.apache.spark.sql.SparkSession@2aebe5d6"
      ]
     },
     "execution_count": 2,
     "metadata": {},
     "output_type": "execute_result"
    }
   ],
   "source": [
    "Logger.getLogger(\"org\").setLevel(Level.OFF)\n",
    "\n",
    "val spark = {\n",
    "  NotebookSparkSession.builder()\n",
    "    .master(\"local[*]\")\n",
    "    .getOrCreate()\n",
    "}\n"
   ]
  },
  {
   "cell_type": "markdown",
   "metadata": {},
   "source": [
    "Загрузим датасет формата ``parquet``."
   ]
  },
  {
   "cell_type": "code",
   "execution_count": 3,
   "metadata": {},
   "outputs": [
    {
     "data": {
      "text/html": [
       "<script>\n",
       "var comm = Jupyter.notebook.kernel.comm_manager.new_comm('cancel-stage-03c29a17-3c4a-4f8e-8ec4-fd7d7ef6ac1e', {});\n",
       "\n",
       "function cancelStage(stageId) {\n",
       "  console.log('Cancelling stage ' + stageId);\n",
       "  comm.send({ 'stageId': stageId });\n",
       "}\n",
       "</script>\n",
       "          "
      ]
     },
     "metadata": {},
     "output_type": "display_data"
    },
    {
     "data": {
      "text/html": [
       "<div>\n",
       "  <span style=\"float: left;\">load at cmd2.sc:3</span>\n",
       "</div>\n"
      ]
     },
     "metadata": {},
     "output_type": "display_data"
    },
    {
     "data": {
      "text/html": [
       "<div class=\"progress\">\n",
       "  <div class=\"progress-bar\" role=\"progressbar\" style=\"background-color: blue; width: 100%; word-wrap: normal; white-space: nowrap; text-align: center; color: white\" aria-valuenow=\"100\" aria-valuemin=\"0\" aria-valuemax=\"100\">\n",
       "    48 / 48\n",
       "  </div>\n",
       "  <div class=\"progress-bar\" role=\"progressbar\" style=\"background-color: red; width: 0%\" aria-valuenow=\"0\" aria-valuemin=\"0\" aria-valuemax=\"100\"></div>\n",
       "</div>\n"
      ]
     },
     "metadata": {},
     "output_type": "display_data"
    },
    {
     "data": {
      "text/html": [
       "<div>\n",
       "  <span style=\"float: left;\">load at cmd2.sc:3</span>\n",
       "</div>\n"
      ]
     },
     "metadata": {},
     "output_type": "display_data"
    },
    {
     "data": {
      "text/html": [
       "<div class=\"progress\">\n",
       "  <div class=\"progress-bar\" role=\"progressbar\" style=\"background-color: blue; width: 100%; word-wrap: normal; white-space: nowrap; text-align: center; color: white\" aria-valuenow=\"100\" aria-valuemin=\"0\" aria-valuemax=\"100\">\n",
       "    1 / 1\n",
       "  </div>\n",
       "  <div class=\"progress-bar\" role=\"progressbar\" style=\"background-color: red; width: 0%\" aria-valuenow=\"0\" aria-valuemin=\"0\" aria-valuemax=\"100\"></div>\n",
       "</div>\n"
      ]
     },
     "metadata": {},
     "output_type": "display_data"
    },
    {
     "data": {
      "text/plain": [
       "\u001b[32mimport \u001b[39m\u001b[36mspark.implicits._\n",
       "\u001b[39m\n",
       "\u001b[36mdata\u001b[39m: \u001b[32mDataFrame\u001b[39m = [instanceId_userId: int, instanceId_objectType: string ... 167 more fields]"
      ]
     },
     "execution_count": 3,
     "metadata": {},
     "output_type": "execute_result"
    }
   ],
   "source": [
    "import spark.implicits._\n",
    "val data = spark.read.format(\"org.apache.spark.sql.execution.datasources.parquet.ParquetFileFormat\").\n",
    "    load(\"homework_2/train/\")"
   ]
  },
  {
   "cell_type": "markdown",
   "metadata": {},
   "source": [
    "Выведем схему данных в датафрейме."
   ]
  },
  {
   "cell_type": "code",
   "execution_count": 4,
   "metadata": {},
   "outputs": [
    {
     "name": "stdout",
     "output_type": "stream",
     "text": [
      "root\n",
      " |-- instanceId_userId: integer (nullable = true)\n",
      " |-- instanceId_objectType: string (nullable = true)\n",
      " |-- instanceId_objectId: integer (nullable = true)\n",
      " |-- audit_pos: long (nullable = true)\n",
      " |-- audit_clientType: string (nullable = true)\n",
      " |-- audit_timestamp: long (nullable = true)\n",
      " |-- audit_timePassed: long (nullable = true)\n",
      " |-- audit_experiment: string (nullable = true)\n",
      " |-- audit_resourceType: long (nullable = true)\n",
      " |-- metadata_ownerId: integer (nullable = true)\n",
      " |-- metadata_ownerType: string (nullable = true)\n",
      " |-- metadata_createdAt: long (nullable = true)\n",
      " |-- metadata_authorId: integer (nullable = true)\n",
      " |-- metadata_applicationId: long (nullable = true)\n",
      " |-- metadata_numCompanions: integer (nullable = true)\n",
      " |-- metadata_numPhotos: integer (nullable = true)\n",
      " |-- metadata_numPolls: integer (nullable = true)\n",
      " |-- metadata_numSymbols: integer (nullable = true)\n",
      " |-- metadata_numTokens: integer (nullable = true)\n",
      " |-- metadata_numVideos: integer (nullable = true)\n",
      " |-- metadata_platform: string (nullable = true)\n",
      " |-- metadata_totalVideoLength: integer (nullable = true)\n",
      " |-- metadata_options: array (nullable = true)\n",
      " |    |-- element: string (containsNull = true)\n",
      " |-- relationsMask: long (nullable = true)\n",
      " |-- userOwnerCounters_USER_FEED_REMOVE: double (nullable = true)\n",
      " |-- userOwnerCounters_USER_PROFILE_VIEW: double (nullable = true)\n",
      " |-- userOwnerCounters_VOTE_POLL: double (nullable = true)\n",
      " |-- userOwnerCounters_USER_SEND_MESSAGE: double (nullable = true)\n",
      " |-- userOwnerCounters_USER_DELETE_MESSAGE: double (nullable = true)\n",
      " |-- userOwnerCounters_USER_INTERNAL_LIKE: double (nullable = true)\n",
      " |-- userOwnerCounters_USER_INTERNAL_UNLIKE: double (nullable = true)\n",
      " |-- userOwnerCounters_USER_STATUS_COMMENT_CREATE: double (nullable = true)\n",
      " |-- userOwnerCounters_PHOTO_COMMENT_CREATE: double (nullable = true)\n",
      " |-- userOwnerCounters_MOVIE_COMMENT_CREATE: double (nullable = true)\n",
      " |-- userOwnerCounters_USER_PHOTO_ALBUM_COMMENT_CREATE: double (nullable = true)\n",
      " |-- userOwnerCounters_COMMENT_INTERNAL_LIKE: double (nullable = true)\n",
      " |-- userOwnerCounters_USER_FORUM_MESSAGE_CREATE: double (nullable = true)\n",
      " |-- userOwnerCounters_PHOTO_MARK_CREATE: double (nullable = true)\n",
      " |-- userOwnerCounters_PHOTO_VIEW: double (nullable = true)\n",
      " |-- userOwnerCounters_PHOTO_PIN_BATCH_CREATE: double (nullable = true)\n",
      " |-- userOwnerCounters_PHOTO_PIN_UPDATE: double (nullable = true)\n",
      " |-- userOwnerCounters_USER_PRESENT_SEND: double (nullable = true)\n",
      " |-- userOwnerCounters_UNKNOWN: double (nullable = true)\n",
      " |-- userOwnerCounters_CREATE_TOPIC: double (nullable = true)\n",
      " |-- userOwnerCounters_CREATE_IMAGE: double (nullable = true)\n",
      " |-- userOwnerCounters_CREATE_MOVIE: double (nullable = true)\n",
      " |-- userOwnerCounters_CREATE_COMMENT: double (nullable = true)\n",
      " |-- userOwnerCounters_CREATE_LIKE: double (nullable = true)\n",
      " |-- userOwnerCounters_TEXT: double (nullable = true)\n",
      " |-- userOwnerCounters_IMAGE: double (nullable = true)\n",
      " |-- userOwnerCounters_VIDEO: double (nullable = true)\n",
      " |-- ownerUserCounters_USER_FEED_REMOVE: double (nullable = true)\n",
      " |-- ownerUserCounters_USER_PROFILE_VIEW: double (nullable = true)\n",
      " |-- ownerUserCounters_VOTE_POLL: double (nullable = true)\n",
      " |-- ownerUserCounters_USER_SEND_MESSAGE: double (nullable = true)\n",
      " |-- ownerUserCounters_USER_DELETE_MESSAGE: double (nullable = true)\n",
      " |-- ownerUserCounters_USER_INTERNAL_LIKE: double (nullable = true)\n",
      " |-- ownerUserCounters_USER_INTERNAL_UNLIKE: double (nullable = true)\n",
      " |-- ownerUserCounters_USER_STATUS_COMMENT_CREATE: double (nullable = true)\n",
      " |-- ownerUserCounters_PHOTO_COMMENT_CREATE: double (nullable = true)\n",
      " |-- ownerUserCounters_MOVIE_COMMENT_CREATE: double (nullable = true)\n",
      " |-- ownerUserCounters_USER_PHOTO_ALBUM_COMMENT_CREATE: double (nullable = true)\n",
      " |-- ownerUserCounters_COMMENT_INTERNAL_LIKE: double (nullable = true)\n",
      " |-- ownerUserCounters_USER_FORUM_MESSAGE_CREATE: double (nullable = true)\n",
      " |-- ownerUserCounters_PHOTO_MARK_CREATE: double (nullable = true)\n",
      " |-- ownerUserCounters_PHOTO_VIEW: double (nullable = true)\n",
      " |-- ownerUserCounters_PHOTO_PIN_BATCH_CREATE: double (nullable = true)\n",
      " |-- ownerUserCounters_PHOTO_PIN_UPDATE: double (nullable = true)\n",
      " |-- ownerUserCounters_USER_PRESENT_SEND: double (nullable = true)\n",
      " |-- ownerUserCounters_UNKNOWN: double (nullable = true)\n",
      " |-- ownerUserCounters_CREATE_TOPIC: double (nullable = true)\n",
      " |-- ownerUserCounters_CREATE_IMAGE: double (nullable = true)\n",
      " |-- ownerUserCounters_CREATE_MOVIE: double (nullable = true)\n",
      " |-- ownerUserCounters_CREATE_COMMENT: double (nullable = true)\n",
      " |-- ownerUserCounters_CREATE_LIKE: double (nullable = true)\n",
      " |-- ownerUserCounters_TEXT: double (nullable = true)\n",
      " |-- ownerUserCounters_IMAGE: double (nullable = true)\n",
      " |-- ownerUserCounters_VIDEO: double (nullable = true)\n",
      " |-- membership_status: string (nullable = true)\n",
      " |-- membership_statusUpdateDate: long (nullable = true)\n",
      " |-- membership_joinDate: long (nullable = true)\n",
      " |-- membership_joinRequestDate: long (nullable = true)\n",
      " |-- owner_create_date: long (nullable = true)\n",
      " |-- owner_birth_date: integer (nullable = true)\n",
      " |-- owner_gender: integer (nullable = true)\n",
      " |-- owner_status: integer (nullable = true)\n",
      " |-- owner_ID_country: long (nullable = true)\n",
      " |-- owner_ID_Location: integer (nullable = true)\n",
      " |-- owner_is_active: integer (nullable = true)\n",
      " |-- owner_is_deleted: integer (nullable = true)\n",
      " |-- owner_is_abused: integer (nullable = true)\n",
      " |-- owner_is_activated: integer (nullable = true)\n",
      " |-- owner_change_datime: long (nullable = true)\n",
      " |-- owner_is_semiactivated: integer (nullable = true)\n",
      " |-- owner_region: integer (nullable = true)\n",
      " |-- user_create_date: long (nullable = true)\n",
      " |-- user_birth_date: integer (nullable = true)\n",
      " |-- user_gender: integer (nullable = true)\n",
      " |-- user_status: integer (nullable = true)\n",
      " |-- user_ID_country: long (nullable = true)\n",
      " |-- user_ID_Location: integer (nullable = true)\n",
      " |-- user_is_active: integer (nullable = true)\n",
      " |-- user_is_deleted: integer (nullable = true)\n",
      " |-- user_is_abused: integer (nullable = true)\n",
      " |-- user_is_activated: integer (nullable = true)\n",
      " |-- user_change_datime: long (nullable = true)\n",
      " |-- user_is_semiactivated: integer (nullable = true)\n",
      " |-- user_region: integer (nullable = true)\n",
      " |-- feedback: array (nullable = true)\n",
      " |    |-- element: string (containsNull = true)\n",
      " |-- objectId: integer (nullable = true)\n",
      " |-- auditweights_ageMs: double (nullable = true)\n",
      " |-- auditweights_closed: double (nullable = true)\n",
      " |-- auditweights_ctr_gender: double (nullable = true)\n",
      " |-- auditweights_ctr_high: double (nullable = true)\n",
      " |-- auditweights_ctr_negative: double (nullable = true)\n",
      " |-- auditweights_dailyRecency: double (nullable = true)\n",
      " |-- auditweights_feedOwner_RECOMMENDED_GROUP: double (nullable = true)\n",
      " |-- auditweights_feedStats: double (nullable = true)\n",
      " |-- auditweights_friendCommentFeeds: double (nullable = true)\n",
      " |-- auditweights_friendCommenters: double (nullable = true)\n",
      " |-- auditweights_friendLikes: double (nullable = true)\n",
      " |-- auditweights_friendLikes_actors: double (nullable = true)\n",
      " |-- auditweights_hasDetectedText: double (nullable = true)\n",
      " |-- auditweights_hasText: double (nullable = true)\n",
      " |-- auditweights_isPymk: double (nullable = true)\n",
      " |-- auditweights_isRandom: double (nullable = true)\n",
      " |-- auditweights_likersFeedStats_hyper: double (nullable = true)\n",
      " |-- auditweights_likersSvd_prelaunch_hyper: double (nullable = true)\n",
      " |-- auditweights_matrix: double (nullable = true)\n",
      " |-- auditweights_notOriginalPhoto: double (nullable = true)\n",
      " |-- auditweights_numDislikes: double (nullable = true)\n",
      " |-- auditweights_numLikes: double (nullable = true)\n",
      " |-- auditweights_numShows: double (nullable = true)\n",
      " |-- auditweights_onlineVideo: double (nullable = true)\n",
      " |-- auditweights_partAge: double (nullable = true)\n",
      " |-- auditweights_partCtr: double (nullable = true)\n",
      " |-- auditweights_partSvd: double (nullable = true)\n",
      " |-- auditweights_processedVideo: double (nullable = true)\n",
      " |-- auditweights_relationMasks: double (nullable = true)\n",
      " |-- auditweights_source_LIVE_TOP: double (nullable = true)\n",
      " |-- auditweights_source_MOVIE_TOP: double (nullable = true)\n",
      " |-- auditweights_svd_prelaunch: double (nullable = true)\n",
      " |-- auditweights_svd_spark: double (nullable = true)\n",
      " |-- auditweights_userAge: double (nullable = true)\n",
      " |-- auditweights_userOwner_CREATE_COMMENT: double (nullable = true)\n",
      " |-- auditweights_userOwner_CREATE_IMAGE: double (nullable = true)\n",
      " |-- auditweights_userOwner_CREATE_LIKE: double (nullable = true)\n",
      " |-- auditweights_userOwner_IMAGE: double (nullable = true)\n",
      " |-- auditweights_userOwner_MOVIE_COMMENT_CREATE: double (nullable = true)\n",
      " |-- auditweights_userOwner_PHOTO_COMMENT_CREATE: double (nullable = true)\n",
      " |-- auditweights_userOwner_PHOTO_MARK_CREATE: double (nullable = true)\n",
      " |-- auditweights_userOwner_PHOTO_VIEW: double (nullable = true)\n",
      " |-- auditweights_userOwner_TEXT: double (nullable = true)\n",
      " |-- auditweights_userOwner_UNKNOWN: double (nullable = true)\n",
      " |-- auditweights_userOwner_USER_DELETE_MESSAGE: double (nullable = true)\n",
      " |-- auditweights_userOwner_USER_FEED_REMOVE: double (nullable = true)\n",
      " |-- auditweights_userOwner_USER_FORUM_MESSAGE_CREATE: double (nullable = true)\n"
     ]
    },
    {
     "name": "stdout",
     "output_type": "stream",
     "text": [
      " |-- auditweights_userOwner_USER_INTERNAL_LIKE: double (nullable = true)\n",
      " |-- auditweights_userOwner_USER_INTERNAL_UNLIKE: double (nullable = true)\n",
      " |-- auditweights_userOwner_USER_PRESENT_SEND: double (nullable = true)\n",
      " |-- auditweights_userOwner_USER_PROFILE_VIEW: double (nullable = true)\n",
      " |-- auditweights_userOwner_USER_SEND_MESSAGE: double (nullable = true)\n",
      " |-- auditweights_userOwner_USER_STATUS_COMMENT_CREATE: double (nullable = true)\n",
      " |-- auditweights_userOwner_VIDEO: double (nullable = true)\n",
      " |-- auditweights_userOwner_VOTE_POLL: double (nullable = true)\n",
      " |-- auditweights_x_ActorsRelations: long (nullable = true)\n",
      " |-- auditweights_likersSvd_spark_hyper: double (nullable = true)\n",
      " |-- auditweights_source_PROMO: double (nullable = true)\n",
      " |-- date: date (nullable = true)\n",
      "\n"
     ]
    }
   ],
   "source": [
    "data.printSchema()"
   ]
  },
  {
   "cell_type": "markdown",
   "metadata": {},
   "source": [
    "Выведем содержание одной строки датафрейма. Программный код заимствован из видеолекции по данной теме."
   ]
  },
  {
   "cell_type": "code",
   "execution_count": 5,
   "metadata": {},
   "outputs": [
    {
     "data": {
      "text/html": [
       "<div>\n",
       "  <span style=\"float: left;\">take at cmd4.sc:1</span>\n",
       "</div>\n"
      ]
     },
     "metadata": {},
     "output_type": "display_data"
    },
    {
     "data": {
      "text/html": [
       "<div class=\"progress\">\n",
       "  <div class=\"progress-bar\" role=\"progressbar\" style=\"background-color: blue; width: 100%; word-wrap: normal; white-space: nowrap; text-align: center; color: white\" aria-valuenow=\"100\" aria-valuemin=\"0\" aria-valuemax=\"100\">\n",
       "    1 / 1\n",
       "  </div>\n",
       "  <div class=\"progress-bar\" role=\"progressbar\" style=\"background-color: red; width: 0%\" aria-valuenow=\"0\" aria-valuemin=\"0\" aria-valuemax=\"100\"></div>\n",
       "</div>\n"
      ]
     },
     "metadata": {},
     "output_type": "display_data"
    },
    {
     "name": "stdout",
     "output_type": "stream",
     "text": [
      "instanceId_userId                                 \t108\n",
      "instanceId_objectType                             \tPost\n",
      "instanceId_objectId                               \t18452434\n",
      "audit_pos                                         \t0\n",
      "audit_clientType                                  \tMOB\n",
      "audit_timestamp                                   \t1520194086477\n",
      "audit_timePassed                                  \t10184811\n",
      "audit_experiment                                  \tXPRM-5386_G1\n",
      "audit_resourceType                                \t8\n",
      "metadata_ownerId                                  \t13680\n",
      "metadata_ownerType                                \tGROUP_OPEN_OFFICIAL\n",
      "metadata_createdAt                                \t1520147725000\n",
      "metadata_authorId                                 \t73356\n",
      "metadata_applicationId                            \t0\n",
      "metadata_numCompanions                            \t0\n",
      "metadata_numPhotos                                \t1\n",
      "metadata_numPolls                                 \t0\n",
      "metadata_numSymbols                               \t18\n",
      "metadata_numTokens                                \t2\n",
      "metadata_numVideos                                \t0\n",
      "metadata_platform                                 \tOTHER\n",
      "metadata_totalVideoLength                         \t0\n",
      "metadata_options                                  \tWrappedArray(HAS_TEXT, HAS_PHOTOS, IS_PART_OF_TOPIC)\n",
      "relationsMask                                     \tnull\n",
      "userOwnerCounters_USER_FEED_REMOVE                \t0.0\n",
      "userOwnerCounters_USER_PROFILE_VIEW               \t0.0\n",
      "userOwnerCounters_VOTE_POLL                       \t0.0\n",
      "userOwnerCounters_USER_SEND_MESSAGE               \t0.0\n",
      "userOwnerCounters_USER_DELETE_MESSAGE             \t0.0\n",
      "userOwnerCounters_USER_INTERNAL_LIKE              \t0.0\n",
      "userOwnerCounters_USER_INTERNAL_UNLIKE            \t0.0\n",
      "userOwnerCounters_USER_STATUS_COMMENT_CREATE      \t0.0\n",
      "userOwnerCounters_PHOTO_COMMENT_CREATE            \t0.0\n",
      "userOwnerCounters_MOVIE_COMMENT_CREATE            \t0.0\n",
      "userOwnerCounters_USER_PHOTO_ALBUM_COMMENT_CREATE \t0.0\n",
      "userOwnerCounters_COMMENT_INTERNAL_LIKE           \t0.0\n",
      "userOwnerCounters_USER_FORUM_MESSAGE_CREATE       \t0.0\n",
      "userOwnerCounters_PHOTO_MARK_CREATE               \t0.0\n",
      "userOwnerCounters_PHOTO_VIEW                      \t0.0\n",
      "userOwnerCounters_PHOTO_PIN_BATCH_CREATE          \t0.0\n",
      "userOwnerCounters_PHOTO_PIN_UPDATE                \t0.0\n",
      "userOwnerCounters_USER_PRESENT_SEND               \t0.0\n",
      "userOwnerCounters_UNKNOWN                         \t0.0\n",
      "userOwnerCounters_CREATE_TOPIC                    \t0.0\n",
      "userOwnerCounters_CREATE_IMAGE                    \t0.0\n",
      "userOwnerCounters_CREATE_MOVIE                    \t0.0\n",
      "userOwnerCounters_CREATE_COMMENT                  \t5.0487775802612305\n",
      "userOwnerCounters_CREATE_LIKE                     \t31.726192474365234\n",
      "userOwnerCounters_TEXT                            \t67.61256408691406\n",
      "userOwnerCounters_IMAGE                           \t21.856033325195312\n",
      "userOwnerCounters_VIDEO                           \t8.234378814697266\n",
      "ownerUserCounters_USER_FEED_REMOVE                \tnull\n",
      "ownerUserCounters_USER_PROFILE_VIEW               \tnull\n",
      "ownerUserCounters_VOTE_POLL                       \tnull\n",
      "ownerUserCounters_USER_SEND_MESSAGE               \tnull\n",
      "ownerUserCounters_USER_DELETE_MESSAGE             \tnull\n",
      "ownerUserCounters_USER_INTERNAL_LIKE              \tnull\n",
      "ownerUserCounters_USER_INTERNAL_UNLIKE            \tnull\n",
      "ownerUserCounters_USER_STATUS_COMMENT_CREATE      \tnull\n",
      "ownerUserCounters_PHOTO_COMMENT_CREATE            \tnull\n",
      "ownerUserCounters_MOVIE_COMMENT_CREATE            \tnull\n",
      "ownerUserCounters_USER_PHOTO_ALBUM_COMMENT_CREATE \tnull\n",
      "ownerUserCounters_COMMENT_INTERNAL_LIKE           \tnull\n",
      "ownerUserCounters_USER_FORUM_MESSAGE_CREATE       \tnull\n",
      "ownerUserCounters_PHOTO_MARK_CREATE               \tnull\n",
      "ownerUserCounters_PHOTO_VIEW                      \tnull\n",
      "ownerUserCounters_PHOTO_PIN_BATCH_CREATE          \tnull\n",
      "ownerUserCounters_PHOTO_PIN_UPDATE                \tnull\n",
      "ownerUserCounters_USER_PRESENT_SEND               \tnull\n",
      "ownerUserCounters_UNKNOWN                         \tnull\n",
      "ownerUserCounters_CREATE_TOPIC                    \tnull\n",
      "ownerUserCounters_CREATE_IMAGE                    \tnull\n",
      "ownerUserCounters_CREATE_MOVIE                    \tnull\n",
      "ownerUserCounters_CREATE_COMMENT                  \tnull\n",
      "ownerUserCounters_CREATE_LIKE                     \tnull\n",
      "ownerUserCounters_TEXT                            \tnull\n",
      "ownerUserCounters_IMAGE                           \tnull\n",
      "ownerUserCounters_VIDEO                           \tnull\n",
      "membership_status                                 \tA\n",
      "membership_statusUpdateDate                       \t1383386108187\n",
      "membership_joinDate                               \t1383386100000\n",
      "membership_joinRequestDate                        \tnull\n",
      "owner_create_date                                 \tnull\n",
      "owner_birth_date                                  \tnull\n",
      "owner_gender                                      \tnull\n",
      "owner_status                                      \tnull\n",
      "owner_ID_country                                  \tnull\n",
      "owner_ID_Location                                 \tnull\n",
      "owner_is_active                                   \tnull\n",
      "owner_is_deleted                                  \tnull\n",
      "owner_is_abused                                   \tnull\n",
      "owner_is_activated                                \tnull\n",
      "owner_change_datime                               \tnull\n",
      "owner_is_semiactivated                            \tnull\n",
      "owner_region                                      \tnull\n",
      "user_create_date                                  \t1182853218900\n",
      "user_birth_date                                   \t4142\n",
      "user_gender                                       \t2\n",
      "user_status                                       \t192\n",
      "user_ID_country                                   \t10397571399\n",
      "user_ID_Location                                  \t2773505\n",
      "user_is_active                                    \t1\n",
      "user_is_deleted                                   \t0\n",
      "user_is_abused                                    \t0\n",
      "user_is_activated                                 \t1\n",
      "user_change_datime                                \t1394110985237\n",
      "user_is_semiactivated                             \tnull\n",
      "user_region                                       \t89\n",
      "feedback                                          \tWrappedArray(Liked)\n",
      "objectId                                          \t18452434\n",
      "auditweights_ageMs                                \t4.6361264E7\n",
      "auditweights_closed                               \tnull\n",
      "auditweights_ctr_gender                           \t0.0098556755\n",
      "auditweights_ctr_high                             \t0.051606573\n",
      "auditweights_ctr_negative                         \t0.0014042387\n",
      "auditweights_dailyRecency                         \t0.9696286\n",
      "auditweights_feedOwner_RECOMMENDED_GROUP          \tnull\n",
      "auditweights_feedStats                            \t8.2\n",
      "auditweights_friendCommentFeeds                   \tnull\n",
      "auditweights_friendCommenters                     \tnull\n",
      "auditweights_friendLikes                          \tnull\n",
      "auditweights_friendLikes_actors                   \tnull\n",
      "auditweights_hasDetectedText                      \tnull\n",
      "auditweights_hasText                              \tnull\n",
      "auditweights_isPymk                               \tnull\n",
      "auditweights_isRandom                             \t1.0\n",
      "auditweights_likersFeedStats_hyper                \tnull\n",
      "auditweights_likersSvd_prelaunch_hyper            \tnull\n",
      "auditweights_matrix                               \t0.03549679\n",
      "auditweights_notOriginalPhoto                     \tnull\n",
      "auditweights_numDislikes                          \t54.0\n",
      "auditweights_numLikes                             \t392.0\n",
      "auditweights_numShows                             \t38355.0\n",
      "auditweights_onlineVideo                          \tnull\n",
      "auditweights_partAge                              \tnull\n",
      "auditweights_partCtr                              \tnull\n",
      "auditweights_partSvd                              \tnull\n",
      "auditweights_processedVideo                       \tnull\n",
      "auditweights_relationMasks                        \tnull\n",
      "auditweights_source_LIVE_TOP                      \tnull\n",
      "auditweights_source_MOVIE_TOP                     \tnull\n",
      "auditweights_svd_prelaunch                        \tnull\n",
      "auditweights_svd_spark                            \t0.7479802\n"
     ]
    },
    {
     "name": "stdout",
     "output_type": "stream",
     "text": [
      "auditweights_userAge                              \t36.0\n",
      "auditweights_userOwner_CREATE_COMMENT             \t0.9963158\n",
      "auditweights_userOwner_CREATE_IMAGE               \tnull\n",
      "auditweights_userOwner_CREATE_LIKE                \t1.0\n",
      "auditweights_userOwner_IMAGE                      \t1.0\n",
      "auditweights_userOwner_MOVIE_COMMENT_CREATE       \tnull\n",
      "auditweights_userOwner_PHOTO_COMMENT_CREATE       \tnull\n",
      "auditweights_userOwner_PHOTO_MARK_CREATE          \tnull\n",
      "auditweights_userOwner_PHOTO_VIEW                 \tnull\n",
      "auditweights_userOwner_TEXT                       \t1.0\n",
      "auditweights_userOwner_UNKNOWN                    \tnull\n",
      "auditweights_userOwner_USER_DELETE_MESSAGE        \tnull\n",
      "auditweights_userOwner_USER_FEED_REMOVE           \tnull\n",
      "auditweights_userOwner_USER_FORUM_MESSAGE_CREATE  \tnull\n",
      "auditweights_userOwner_USER_INTERNAL_LIKE         \tnull\n",
      "auditweights_userOwner_USER_INTERNAL_UNLIKE       \tnull\n",
      "auditweights_userOwner_USER_PRESENT_SEND          \tnull\n",
      "auditweights_userOwner_USER_PROFILE_VIEW          \tnull\n",
      "auditweights_userOwner_USER_SEND_MESSAGE          \tnull\n",
      "auditweights_userOwner_USER_STATUS_COMMENT_CREATE \tnull\n",
      "auditweights_userOwner_VIDEO                      \tnull\n",
      "auditweights_userOwner_VOTE_POLL                  \tnull\n",
      "auditweights_x_ActorsRelations                    \tnull\n",
      "auditweights_likersSvd_spark_hyper                \tnull\n",
      "auditweights_source_PROMO                         \tnull\n",
      "date                                              \t2018-03-04\n"
     ]
    }
   ],
   "source": [
    "data.columns.zip(data.take(1).head.toSeq).foreach( z => print(f\"${z._1}%-50s\\t${z._2}\\n\") )"
   ]
  },
  {
   "cell_type": "markdown",
   "metadata": {},
   "source": [
    "В соответствии с постановкой задачи, построим топ популярных групп для каждого типа обьекта. Для этого необходимо отфильтровать строки датафрема по атрибуту feedback, который содержит \"Liked\", и сделать агрегацию по ``instanceId_objectType`` и ``instanceId_objectId``."
   ]
  },
  {
   "cell_type": "code",
   "execution_count": 6,
   "metadata": {},
   "outputs": [
    {
     "data": {
      "text/plain": [
       "\u001b[36mliked_data\u001b[39m: \u001b[32mDataset\u001b[39m[\u001b[32mRow\u001b[39m] = [instanceId_objectType: string, instanceId_objectId: int ... 1 more field]"
      ]
     },
     "execution_count": 6,
     "metadata": {},
     "output_type": "execute_result"
    }
   ],
   "source": [
    "val liked_data = data.select(\"instanceId_objectType\", \"instanceId_objectId\").\n",
    "    filter( array_contains(data(\"feedback\"), \"Liked\") ).\n",
    "    groupBy(\"instanceId_objectType\", \"instanceId_objectId\").\n",
    "    count().\n",
    "    sort($\"instanceId_objectType\", $\"count\".desc)"
   ]
  },
  {
   "cell_type": "markdown",
   "metadata": {},
   "source": [
    "Выведем несколько строк сформированного датафрейма."
   ]
  },
  {
   "cell_type": "code",
   "execution_count": 7,
   "metadata": {},
   "outputs": [
    {
     "data": {
      "text/html": [
       "<div>\n",
       "  <span style=\"float: left;\">show at cmd6.sc:1</span>\n",
       "</div>\n"
      ]
     },
     "metadata": {},
     "output_type": "display_data"
    },
    {
     "data": {
      "text/html": [
       "<div class=\"progress\">\n",
       "  <div class=\"progress-bar\" role=\"progressbar\" style=\"background-color: blue; width: 100%; word-wrap: normal; white-space: nowrap; text-align: center; color: white\" aria-valuenow=\"100\" aria-valuemin=\"0\" aria-valuemax=\"100\">\n",
       "    332 / 332\n",
       "  </div>\n",
       "  <div class=\"progress-bar\" role=\"progressbar\" style=\"background-color: red; width: 0%\" aria-valuenow=\"0\" aria-valuemin=\"0\" aria-valuemax=\"100\"></div>\n",
       "</div>\n"
      ]
     },
     "metadata": {},
     "output_type": "display_data"
    },
    {
     "data": {
      "text/html": [
       "<div>\n",
       "  <span style=\"float: left;\">show at cmd6.sc:1</span>\n",
       "</div>\n"
      ]
     },
     "metadata": {},
     "output_type": "display_data"
    },
    {
     "data": {
      "text/html": [
       "<div class=\"progress\">\n",
       "  <div class=\"progress-bar\" role=\"progressbar\" style=\"background-color: blue; width: 100%; word-wrap: normal; white-space: nowrap; text-align: center; color: white\" aria-valuenow=\"100\" aria-valuemin=\"0\" aria-valuemax=\"100\">\n",
       "    200 / 200\n",
       "  </div>\n",
       "  <div class=\"progress-bar\" role=\"progressbar\" style=\"background-color: red; width: 0%\" aria-valuenow=\"0\" aria-valuemin=\"0\" aria-valuemax=\"100\"></div>\n",
       "</div>\n"
      ]
     },
     "metadata": {},
     "output_type": "display_data"
    },
    {
     "name": "stdout",
     "output_type": "stream",
     "text": [
      "+---------------------+-------------------+-----+\n",
      "|instanceId_objectType|instanceId_objectId|count|\n",
      "+---------------------+-------------------+-----+\n",
      "|                Photo|            6537034|  215|\n",
      "|                Photo|            7001118|  171|\n",
      "|                Photo|            7474842|  152|\n",
      "|                Photo|            6644424|  145|\n",
      "|                Photo|            1790708|  134|\n",
      "|                Photo|            6276929|  124|\n",
      "|                Photo|            8153427|  100|\n",
      "|                Photo|            2886014|   99|\n",
      "|                Photo|            8550904|   82|\n",
      "|                Photo|            7533932|   79|\n",
      "|                Photo|            8414106|   75|\n",
      "|                Photo|            5212228|   74|\n",
      "|                Photo|            7343426|   73|\n",
      "|                Photo|            5168713|   73|\n",
      "|                Photo|            7030205|   70|\n",
      "|                Photo|            7803023|   69|\n",
      "|                Photo|            2184938|   69|\n",
      "|                Photo|            7548035|   68|\n",
      "|                Photo|            5299201|   66|\n",
      "|                Photo|            8026500|   66|\n",
      "+---------------------+-------------------+-----+\n",
      "only showing top 20 rows\n",
      "\n"
     ]
    }
   ],
   "source": [
    "liked_data.show()"
   ]
  },
  {
   "cell_type": "markdown",
   "metadata": {},
   "source": [
    "Выведем по 5 наиболее популярных объектов (которых \"лайкнули\" наибольшее число раз) для каждой категории."
   ]
  },
  {
   "cell_type": "code",
   "execution_count": 8,
   "metadata": {},
   "outputs": [
    {
     "data": {
      "text/plain": [
       "\u001b[36mwindow\u001b[39m: \u001b[32mexpressions\u001b[39m.\u001b[32mWindowSpec\u001b[39m = org.apache.spark.sql.expressions.WindowSpec@7ee5a604\n",
       "\u001b[36mfirst_five_liked_data\u001b[39m: \u001b[32mDataFrame\u001b[39m = [instanceId_objectType: string, instanceId_objectId: int ... 1 more field]"
      ]
     },
     "execution_count": 8,
     "metadata": {},
     "output_type": "execute_result"
    }
   ],
   "source": [
    "val window  = Window.partitionBy(\"instanceId_objectType\").orderBy($\"count\".desc)\n",
    "val first_five_liked_data = liked_data.withColumn(\"row_number\", row_number.over(window)).\n",
    "                                filter($\"row_number\" <= 5).drop(\"row_number\")"
   ]
  },
  {
   "cell_type": "code",
   "execution_count": 9,
   "metadata": {},
   "outputs": [
    {
     "data": {
      "text/html": [
       "<div>\n",
       "  <span style=\"float: left;\">show at cmd8.sc:1</span>\n",
       "</div>\n"
      ]
     },
     "metadata": {},
     "output_type": "display_data"
    },
    {
     "data": {
      "text/html": [
       "<div class=\"progress\">\n",
       "  <div class=\"progress-bar\" role=\"progressbar\" style=\"background-color: blue; width: 100%; word-wrap: normal; white-space: nowrap; text-align: center; color: white\" aria-valuenow=\"100\" aria-valuemin=\"0\" aria-valuemax=\"100\">\n",
       "    332 / 332\n",
       "  </div>\n",
       "  <div class=\"progress-bar\" role=\"progressbar\" style=\"background-color: red; width: 0%\" aria-valuenow=\"0\" aria-valuemin=\"0\" aria-valuemax=\"100\"></div>\n",
       "</div>\n"
      ]
     },
     "metadata": {},
     "output_type": "display_data"
    },
    {
     "data": {
      "text/html": [
       "<div>\n",
       "  <span style=\"float: left;\">show at cmd8.sc:1</span>\n",
       "</div>\n"
      ]
     },
     "metadata": {},
     "output_type": "display_data"
    },
    {
     "data": {
      "text/html": [
       "<div class=\"progress\">\n",
       "  <div class=\"progress-bar\" role=\"progressbar\" style=\"background-color: blue; width: 100%; word-wrap: normal; white-space: nowrap; text-align: center; color: white\" aria-valuenow=\"100\" aria-valuemin=\"0\" aria-valuemax=\"100\">\n",
       "    200 / 200\n",
       "  </div>\n",
       "  <div class=\"progress-bar\" role=\"progressbar\" style=\"background-color: red; width: 0%\" aria-valuenow=\"0\" aria-valuemin=\"0\" aria-valuemax=\"100\"></div>\n",
       "</div>\n"
      ]
     },
     "metadata": {},
     "output_type": "display_data"
    },
    {
     "data": {
      "text/html": [
       "<div>\n",
       "  <span style=\"float: left;\">show at cmd8.sc:1</span>\n",
       "</div>\n"
      ]
     },
     "metadata": {},
     "output_type": "display_data"
    },
    {
     "data": {
      "text/html": [
       "<div class=\"progress\">\n",
       "  <div class=\"progress-bar\" role=\"progressbar\" style=\"background-color: blue; width: 100%; word-wrap: normal; white-space: nowrap; text-align: center; color: white\" aria-valuenow=\"100\" aria-valuemin=\"0\" aria-valuemax=\"100\">\n",
       "    200 / 200\n",
       "  </div>\n",
       "  <div class=\"progress-bar\" role=\"progressbar\" style=\"background-color: red; width: 0%\" aria-valuenow=\"0\" aria-valuemin=\"0\" aria-valuemax=\"100\"></div>\n",
       "</div>\n"
      ]
     },
     "metadata": {},
     "output_type": "display_data"
    },
    {
     "data": {
      "text/html": [
       "<div>\n",
       "  <span style=\"float: left;\">show at cmd8.sc:1</span>\n",
       "</div>\n"
      ]
     },
     "metadata": {},
     "output_type": "display_data"
    },
    {
     "data": {
      "text/html": [
       "<div class=\"progress\">\n",
       "  <div class=\"progress-bar\" role=\"progressbar\" style=\"background-color: blue; width: 100%; word-wrap: normal; white-space: nowrap; text-align: center; color: white\" aria-valuenow=\"100\" aria-valuemin=\"0\" aria-valuemax=\"100\">\n",
       "    95 / 95\n",
       "  </div>\n",
       "  <div class=\"progress-bar\" role=\"progressbar\" style=\"background-color: red; width: 0%\" aria-valuenow=\"0\" aria-valuemin=\"0\" aria-valuemax=\"100\"></div>\n",
       "</div>\n"
      ]
     },
     "metadata": {},
     "output_type": "display_data"
    },
    {
     "data": {
      "text/html": [
       "<div>\n",
       "  <span style=\"float: left;\">show at cmd8.sc:1</span>\n",
       "</div>\n"
      ]
     },
     "metadata": {},
     "output_type": "display_data"
    },
    {
     "data": {
      "text/html": [
       "<div class=\"progress\">\n",
       "  <div class=\"progress-bar\" role=\"progressbar\" style=\"background-color: blue; width: 100%; word-wrap: normal; white-space: nowrap; text-align: center; color: white\" aria-valuenow=\"100\" aria-valuemin=\"0\" aria-valuemax=\"100\">\n",
       "    1 / 1\n",
       "  </div>\n",
       "  <div class=\"progress-bar\" role=\"progressbar\" style=\"background-color: red; width: 0%\" aria-valuenow=\"0\" aria-valuemin=\"0\" aria-valuemax=\"100\"></div>\n",
       "</div>\n"
      ]
     },
     "metadata": {},
     "output_type": "display_data"
    },
    {
     "data": {
      "text/html": [
       "<div>\n",
       "  <span style=\"float: left;\">show at cmd8.sc:1</span>\n",
       "</div>\n"
      ]
     },
     "metadata": {},
     "output_type": "display_data"
    },
    {
     "data": {
      "text/html": [
       "<div class=\"progress\">\n",
       "  <div class=\"progress-bar\" role=\"progressbar\" style=\"background-color: blue; width: 100%; word-wrap: normal; white-space: nowrap; text-align: center; color: white\" aria-valuenow=\"100\" aria-valuemin=\"0\" aria-valuemax=\"100\">\n",
       "    4 / 4\n",
       "  </div>\n",
       "  <div class=\"progress-bar\" role=\"progressbar\" style=\"background-color: red; width: 0%\" aria-valuenow=\"0\" aria-valuemin=\"0\" aria-valuemax=\"100\"></div>\n",
       "</div>\n"
      ]
     },
     "metadata": {},
     "output_type": "display_data"
    },
    {
     "data": {
      "text/html": [
       "<div>\n",
       "  <span style=\"float: left;\">show at cmd8.sc:1</span>\n",
       "</div>\n"
      ]
     },
     "metadata": {},
     "output_type": "display_data"
    },
    {
     "data": {
      "text/html": [
       "<div class=\"progress\">\n",
       "  <div class=\"progress-bar\" role=\"progressbar\" style=\"background-color: blue; width: 100%; word-wrap: normal; white-space: nowrap; text-align: center; color: white\" aria-valuenow=\"100\" aria-valuemin=\"0\" aria-valuemax=\"100\">\n",
       "    20 / 20\n",
       "  </div>\n",
       "  <div class=\"progress-bar\" role=\"progressbar\" style=\"background-color: red; width: 0%\" aria-valuenow=\"0\" aria-valuemin=\"0\" aria-valuemax=\"100\"></div>\n",
       "</div>\n"
      ]
     },
     "metadata": {},
     "output_type": "display_data"
    },
    {
     "data": {
      "text/html": [
       "<div>\n",
       "  <span style=\"float: left;\">show at cmd8.sc:1</span>\n",
       "</div>\n"
      ]
     },
     "metadata": {},
     "output_type": "display_data"
    },
    {
     "data": {
      "text/html": [
       "<div class=\"progress\">\n",
       "  <div class=\"progress-bar\" role=\"progressbar\" style=\"background-color: blue; width: 100%; word-wrap: normal; white-space: nowrap; text-align: center; color: white\" aria-valuenow=\"100\" aria-valuemin=\"0\" aria-valuemax=\"100\">\n",
       "    100 / 100\n",
       "  </div>\n",
       "  <div class=\"progress-bar\" role=\"progressbar\" style=\"background-color: red; width: 0%\" aria-valuenow=\"0\" aria-valuemin=\"0\" aria-valuemax=\"100\"></div>\n",
       "</div>\n"
      ]
     },
     "metadata": {},
     "output_type": "display_data"
    },
    {
     "data": {
      "text/html": [
       "<div>\n",
       "  <span style=\"float: left;\">show at cmd8.sc:1</span>\n",
       "</div>\n"
      ]
     },
     "metadata": {},
     "output_type": "display_data"
    },
    {
     "data": {
      "text/html": [
       "<div class=\"progress\">\n",
       "  <div class=\"progress-bar\" role=\"progressbar\" style=\"background-color: blue; width: 100%; word-wrap: normal; white-space: nowrap; text-align: center; color: white\" aria-valuenow=\"100\" aria-valuemin=\"0\" aria-valuemax=\"100\">\n",
       "    75 / 75\n",
       "  </div>\n",
       "  <div class=\"progress-bar\" role=\"progressbar\" style=\"background-color: red; width: 0%\" aria-valuenow=\"0\" aria-valuemin=\"0\" aria-valuemax=\"100\"></div>\n",
       "</div>\n"
      ]
     },
     "metadata": {},
     "output_type": "display_data"
    },
    {
     "name": "stdout",
     "output_type": "stream",
     "text": [
      "+---------------------+-------------------+-----+\n",
      "|instanceId_objectType|instanceId_objectId|count|\n",
      "+---------------------+-------------------+-----+\n",
      "|                Video|             535842| 1329|\n",
      "|                Video|            1282812|  868|\n",
      "|                Video|             603629|  822|\n",
      "|                Video|            1041333|  633|\n",
      "|                Video|            9458730|  569|\n",
      "|                Photo|            6537034|  215|\n",
      "|                Photo|            7001118|  171|\n",
      "|                Photo|            7474842|  152|\n",
      "|                Photo|            6644424|  145|\n",
      "|                Photo|            1790708|  134|\n",
      "|                 Post|           19152905|  689|\n",
      "|                 Post|           11300713|  660|\n",
      "|                 Post|           38567725|  568|\n",
      "|                 Post|           31009524|  560|\n",
      "|                 Post|           35514331|  544|\n",
      "+---------------------+-------------------+-----+\n",
      "\n"
     ]
    }
   ],
   "source": [
    "first_five_liked_data.show()"
   ]
  },
  {
   "cell_type": "markdown",
   "metadata": {},
   "source": [
    "Получим датафрейм в виде массива типов объектов со списками групп и числа \"лайков\"."
   ]
  },
  {
   "cell_type": "code",
   "execution_count": 10,
   "metadata": {},
   "outputs": [
    {
     "data": {
      "text/html": [
       "<div>\n",
       "  <span style=\"float: left;\">collect at cmd9.sc:3</span>\n",
       "</div>\n"
      ]
     },
     "metadata": {},
     "output_type": "display_data"
    },
    {
     "data": {
      "text/html": [
       "<div class=\"progress\">\n",
       "  <div class=\"progress-bar\" role=\"progressbar\" style=\"background-color: blue; width: 100%; word-wrap: normal; white-space: nowrap; text-align: center; color: white\" aria-valuenow=\"100\" aria-valuemin=\"0\" aria-valuemax=\"100\">\n",
       "    332 / 332\n",
       "  </div>\n",
       "  <div class=\"progress-bar\" role=\"progressbar\" style=\"background-color: red; width: 0%\" aria-valuenow=\"0\" aria-valuemin=\"0\" aria-valuemax=\"100\"></div>\n",
       "</div>\n"
      ]
     },
     "metadata": {},
     "output_type": "display_data"
    },
    {
     "data": {
      "text/html": [
       "<div>\n",
       "  <span style=\"float: left;\">collect at cmd9.sc:3</span>\n",
       "</div>\n"
      ]
     },
     "metadata": {},
     "output_type": "display_data"
    },
    {
     "data": {
      "text/html": [
       "<div class=\"progress\">\n",
       "  <div class=\"progress-bar\" role=\"progressbar\" style=\"background-color: blue; width: 100%; word-wrap: normal; white-space: nowrap; text-align: center; color: white\" aria-valuenow=\"100\" aria-valuemin=\"0\" aria-valuemax=\"100\">\n",
       "    200 / 200\n",
       "  </div>\n",
       "  <div class=\"progress-bar\" role=\"progressbar\" style=\"background-color: red; width: 0%\" aria-valuenow=\"0\" aria-valuemin=\"0\" aria-valuemax=\"100\"></div>\n",
       "</div>\n"
      ]
     },
     "metadata": {},
     "output_type": "display_data"
    },
    {
     "data": {
      "text/html": [
       "<div>\n",
       "  <span style=\"float: left;\">collect at cmd9.sc:3</span>\n",
       "</div>\n"
      ]
     },
     "metadata": {},
     "output_type": "display_data"
    },
    {
     "data": {
      "text/html": [
       "<div class=\"progress\">\n",
       "  <div class=\"progress-bar\" role=\"progressbar\" style=\"background-color: blue; width: 100%; word-wrap: normal; white-space: nowrap; text-align: center; color: white\" aria-valuenow=\"100\" aria-valuemin=\"0\" aria-valuemax=\"100\">\n",
       "    200 / 200\n",
       "  </div>\n",
       "  <div class=\"progress-bar\" role=\"progressbar\" style=\"background-color: red; width: 0%\" aria-valuenow=\"0\" aria-valuemin=\"0\" aria-valuemax=\"100\"></div>\n",
       "</div>\n"
      ]
     },
     "metadata": {},
     "output_type": "display_data"
    },
    {
     "data": {
      "text/html": [
       "<div>\n",
       "  <span style=\"float: left;\">collect at cmd9.sc:3</span>\n",
       "</div>\n"
      ]
     },
     "metadata": {},
     "output_type": "display_data"
    },
    {
     "data": {
      "text/html": [
       "<div class=\"progress\">\n",
       "  <div class=\"progress-bar\" role=\"progressbar\" style=\"background-color: blue; width: 100%; word-wrap: normal; white-space: nowrap; text-align: center; color: white\" aria-valuenow=\"100\" aria-valuemin=\"0\" aria-valuemax=\"100\">\n",
       "    87 / 87\n",
       "  </div>\n",
       "  <div class=\"progress-bar\" role=\"progressbar\" style=\"background-color: red; width: 0%\" aria-valuenow=\"0\" aria-valuemin=\"0\" aria-valuemax=\"100\"></div>\n",
       "</div>\n"
      ]
     },
     "metadata": {},
     "output_type": "display_data"
    },
    {
     "data": {
      "text/html": [
       "<div>\n",
       "  <span style=\"float: left;\">collect at cmd9.sc:3</span>\n",
       "</div>\n"
      ]
     },
     "metadata": {},
     "output_type": "display_data"
    },
    {
     "data": {
      "text/html": [
       "<div class=\"progress\">\n",
       "  <div class=\"progress-bar\" role=\"progressbar\" style=\"background-color: blue; width: 100%; word-wrap: normal; white-space: nowrap; text-align: center; color: white\" aria-valuenow=\"100\" aria-valuemin=\"0\" aria-valuemax=\"100\">\n",
       "    200 / 200\n",
       "  </div>\n",
       "  <div class=\"progress-bar\" role=\"progressbar\" style=\"background-color: red; width: 0%\" aria-valuenow=\"0\" aria-valuemin=\"0\" aria-valuemax=\"100\"></div>\n",
       "</div>\n"
      ]
     },
     "metadata": {},
     "output_type": "display_data"
    },
    {
     "data": {
      "text/plain": [
       "\u001b[36mtop_of_groups\u001b[39m: \u001b[32mArray\u001b[39m[\u001b[32mRow\u001b[39m] = \u001b[33mArray\u001b[39m(\n",
       "  [Video,WrappedArray(535842, 1282812, 603629, 1041333, 9458730),WrappedArray(1329, 868, 822, 633, 569)],\n",
       "  [Photo,WrappedArray(6537034, 7001118, 7474842, 6644424, 1790708),WrappedArray(215, 171, 152, 145, 134)],\n",
       "  [Post,WrappedArray(19152905, 11300713, 38567725, 31009524, 35514331),WrappedArray(689, 660, 568, 560, 544)]\n",
       ")"
      ]
     },
     "execution_count": 10,
     "metadata": {},
     "output_type": "execute_result"
    }
   ],
   "source": [
    "val top_of_groups = first_five_liked_data.groupBy($\"instanceId_objectType\").\n",
    "    agg(collect_list($\"instanceId_objectId\").alias(\"instanceId_objectId\"),\n",
    "        collect_list($\"count\").alias(\"count\")).\n",
    "    collect()"
   ]
  },
  {
   "cell_type": "markdown",
   "metadata": {},
   "source": [
    "Реализуем функцию визуализации."
   ]
  },
  {
   "cell_type": "code",
   "execution_count": 11,
   "metadata": {},
   "outputs": [
    {
     "data": {
      "text/plain": [
       "defined \u001b[32mfunction\u001b[39m \u001b[36mplot_top_objects\u001b[39m"
      ]
     },
     "execution_count": 11,
     "metadata": {},
     "output_type": "execute_result"
    }
   ],
   "source": [
    "def plot_top_objects(object_type: String, \n",
    "                    groups: List[String], \n",
    "                    counts: List[Long]): Unit = {\n",
    "    \n",
    "    val data = Seq(\n",
    "        Bar(\n",
    "            groups.toSeq, counts.toSeq\n",
    "            )\n",
    "        )\n",
    "    \n",
    "    val plot_layout = Layout(\n",
    "        title = s\"${object_type}\"\n",
    "        )\n",
    "    \n",
    "    plot(data, plot_layout)\n",
    "}"
   ]
  },
  {
   "cell_type": "code",
   "execution_count": 12,
   "metadata": {},
   "outputs": [
    {
     "data": {
      "text/html": [
       "\n",
       "      <script type=\"text/javascript\">\n",
       "        require.config({\n",
       "  paths: {\n",
       "    d3: 'https://cdnjs.cloudflare.com/ajax/libs/d3/3.5.17/d3.min',\n",
       "    plotly: 'https://cdn.plot.ly/plotly-1.52.2.min',\n",
       "    jquery: 'https://code.jquery.com/jquery-3.3.1.min'\n",
       "  },\n",
       "\n",
       "  shim: {\n",
       "    plotly: {\n",
       "      deps: ['d3', 'jquery'],\n",
       "      exports: 'plotly'\n",
       "    }\n",
       "  }\n",
       "});\n",
       "        \n",
       "\n",
       "        require(['plotly'], function(Plotly) {\n",
       "          window.Plotly = Plotly;\n",
       "        });\n",
       "      </script>\n",
       "    "
      ]
     },
     "metadata": {},
     "output_type": "display_data"
    },
    {
     "data": {
      "application/vnd.plotly.v1+json": {
       "config": {},
       "data": [
        {
         "type": "bar",
         "x": [
          "G-535842",
          "G-1282812",
          "G-603629",
          "G-1041333",
          "G-9458730"
         ],
         "y": [
          1329,
          868,
          822,
          633,
          569
         ]
        }
       ],
       "layout": {
        "title": "Top groups distribution for Video"
       }
      },
      "text/html": [
       "<div class=\"chart\" id=\"plot-fa218de6-aa99-4a56-b8fb-53f48cc7e7a6\"></div>\n",
       "<script>require(['plotly'], function(Plotly) {\n",
       "  (function () {\n",
       "  var data0 = {\"x\":[\"G-535842\",\"G-1282812\",\"G-603629\",\"G-1041333\",\"G-9458730\"],\"y\":[1329.0,868.0,822.0,633.0,569.0],\"type\":\"bar\"};\n",
       "\n",
       "  var data = [data0];\n",
       "  var layout = {\"title\":\"Top groups distribution for Video\"};\n",
       " var config = {};\n",
       "\n",
       "  Plotly.plot('plot-fa218de6-aa99-4a56-b8fb-53f48cc7e7a6', data, layout, config);\n",
       "})();\n",
       "});\n",
       "      </script>\n",
       "           "
      ]
     },
     "metadata": {},
     "output_type": "display_data"
    },
    {
     "data": {
      "application/vnd.plotly.v1+json": {
       "config": {},
       "data": [
        {
         "type": "bar",
         "x": [
          "G-6537034",
          "G-7001118",
          "G-7474842",
          "G-6644424",
          "G-1790708"
         ],
         "y": [
          215,
          171,
          152,
          145,
          134
         ]
        }
       ],
       "layout": {
        "title": "Top groups distribution for Photo"
       }
      },
      "text/html": [
       "<div class=\"chart\" id=\"plot-bebd3af9-a097-40b8-814b-2d98b99d5706\"></div>\n",
       "<script>require(['plotly'], function(Plotly) {\n",
       "  (function () {\n",
       "  var data0 = {\"x\":[\"G-6537034\",\"G-7001118\",\"G-7474842\",\"G-6644424\",\"G-1790708\"],\"y\":[215.0,171.0,152.0,145.0,134.0],\"type\":\"bar\"};\n",
       "\n",
       "  var data = [data0];\n",
       "  var layout = {\"title\":\"Top groups distribution for Photo\"};\n",
       " var config = {};\n",
       "\n",
       "  Plotly.plot('plot-bebd3af9-a097-40b8-814b-2d98b99d5706', data, layout, config);\n",
       "})();\n",
       "});\n",
       "      </script>\n",
       "           "
      ]
     },
     "metadata": {},
     "output_type": "display_data"
    },
    {
     "data": {
      "application/vnd.plotly.v1+json": {
       "config": {},
       "data": [
        {
         "type": "bar",
         "x": [
          "G-19152905",
          "G-11300713",
          "G-38567725",
          "G-31009524",
          "G-35514331"
         ],
         "y": [
          689,
          660,
          568,
          560,
          544
         ]
        }
       ],
       "layout": {
        "title": "Top groups distribution for Post"
       }
      },
      "text/html": [
       "<div class=\"chart\" id=\"plot-cae22ae2-d181-46d4-bb1c-0cc98cc9896f\"></div>\n",
       "<script>require(['plotly'], function(Plotly) {\n",
       "  (function () {\n",
       "  var data0 = {\"x\":[\"G-19152905\",\"G-11300713\",\"G-38567725\",\"G-31009524\",\"G-35514331\"],\"y\":[689.0,660.0,568.0,560.0,544.0],\"type\":\"bar\"};\n",
       "\n",
       "  var data = [data0];\n",
       "  var layout = {\"title\":\"Top groups distribution for Post\"};\n",
       " var config = {};\n",
       "\n",
       "  Plotly.plot('plot-cae22ae2-d181-46d4-bb1c-0cc98cc9896f', data, layout, config);\n",
       "})();\n",
       "});\n",
       "      </script>\n",
       "           "
      ]
     },
     "metadata": {},
     "output_type": "display_data"
    }
   ],
   "source": [
    "top_of_groups.foreach( x => {\n",
    "    val groups = x(1).asInstanceOf[WrappedArray[Integer]].map(x => \"G-\" + x.toString).toList\n",
    "    val counts = x(2).asInstanceOf[WrappedArray[Long]].toList\n",
    "    plot_top_objects(\"Top groups distribution for \" + x(0).toString, groups, counts)\n",
    "})"
   ]
  },
  {
   "cell_type": "markdown",
   "metadata": {},
   "source": [
    "Теперь построим гистограммы популярности объекта по времени суток. Так же, как и в предыдущем задании, критерием популярности служит количество \"лайков\". Выберем три наиболее популярных объекта."
   ]
  },
  {
   "cell_type": "code",
   "execution_count": 13,
   "metadata": {},
   "outputs": [
    {
     "data": {
      "text/html": [
       "<div>\n",
       "  <span style=\"float: left;\">take at cmd12.sc:5</span>\n",
       "</div>\n"
      ]
     },
     "metadata": {},
     "output_type": "display_data"
    },
    {
     "data": {
      "text/html": [
       "<div class=\"progress\">\n",
       "  <div class=\"progress-bar\" role=\"progressbar\" style=\"background-color: blue; width: 100%; word-wrap: normal; white-space: nowrap; text-align: center; color: white\" aria-valuenow=\"100\" aria-valuemin=\"0\" aria-valuemax=\"100\">\n",
       "    332 / 332\n",
       "  </div>\n",
       "  <div class=\"progress-bar\" role=\"progressbar\" style=\"background-color: red; width: 0%\" aria-valuenow=\"0\" aria-valuemin=\"0\" aria-valuemax=\"100\"></div>\n",
       "</div>\n"
      ]
     },
     "metadata": {},
     "output_type": "display_data"
    },
    {
     "data": {
      "text/html": [
       "<div>\n",
       "  <span style=\"float: left;\">take at cmd12.sc:5</span>\n",
       "</div>\n"
      ]
     },
     "metadata": {},
     "output_type": "display_data"
    },
    {
     "data": {
      "text/html": [
       "<div class=\"progress\">\n",
       "  <div class=\"progress-bar\" role=\"progressbar\" style=\"background-color: blue; width: 100%; word-wrap: normal; white-space: nowrap; text-align: center; color: white\" aria-valuenow=\"100\" aria-valuemin=\"0\" aria-valuemax=\"100\">\n",
       "    200 / 200\n",
       "  </div>\n",
       "  <div class=\"progress-bar\" role=\"progressbar\" style=\"background-color: red; width: 0%\" aria-valuenow=\"0\" aria-valuemin=\"0\" aria-valuemax=\"100\"></div>\n",
       "</div>\n"
      ]
     },
     "metadata": {},
     "output_type": "display_data"
    },
    {
     "data": {
      "text/plain": [
       "\u001b[36mliked_objects\u001b[39m: \u001b[32mArray\u001b[39m[\u001b[32mRow\u001b[39m] = \u001b[33mArray\u001b[39m([535842,1329], [1282812,868], [603629,822])"
      ]
     },
     "execution_count": 13,
     "metadata": {},
     "output_type": "execute_result"
    }
   ],
   "source": [
    "val liked_objects = data.select(\"instanceId_objectId\").\n",
    "    filter( array_contains(data(\"feedback\"), \"Liked\") ).\n",
    "    groupBy(\"instanceId_objectId\").\n",
    "    count().\n",
    "    sort($\"count\".desc).take(3)"
   ]
  },
  {
   "cell_type": "markdown",
   "metadata": {},
   "source": [
    "Выведем эти популярные объекты в виде списка."
   ]
  },
  {
   "cell_type": "code",
   "execution_count": 14,
   "metadata": {},
   "outputs": [
    {
     "data": {
      "text/plain": [
       "\u001b[36mmost_liked_groups\u001b[39m: \u001b[32mList\u001b[39m[\u001b[32mInt\u001b[39m] = \u001b[33mList\u001b[39m(\u001b[32m535842\u001b[39m, \u001b[32m1282812\u001b[39m, \u001b[32m603629\u001b[39m)"
      ]
     },
     "execution_count": 14,
     "metadata": {},
     "output_type": "execute_result"
    }
   ],
   "source": [
    "val most_liked_groups = liked_objects.map(x => x(0).asInstanceOf[Int]).toList"
   ]
  },
  {
   "cell_type": "markdown",
   "metadata": {},
   "source": [
    "Теперь отфильтруем все строки изначального датафрейма по объектам, которые были определы ранее, определим час из поля ``audit_timestamp`` и посчитаем количество \"лайков\", которые были поставлены объекту в пределах конкретного часа."
   ]
  },
  {
   "cell_type": "code",
   "execution_count": 15,
   "metadata": {},
   "outputs": [
    {
     "data": {
      "text/html": [
       "<div>\n",
       "  <span style=\"float: left;\">collect at cmd14.sc:10</span>\n",
       "</div>\n"
      ]
     },
     "metadata": {},
     "output_type": "display_data"
    },
    {
     "data": {
      "text/html": [
       "<div class=\"progress\">\n",
       "  <div class=\"progress-bar\" role=\"progressbar\" style=\"background-color: blue; width: 100%; word-wrap: normal; white-space: nowrap; text-align: center; color: white\" aria-valuenow=\"100\" aria-valuemin=\"0\" aria-valuemax=\"100\">\n",
       "    332 / 332\n",
       "  </div>\n",
       "  <div class=\"progress-bar\" role=\"progressbar\" style=\"background-color: red; width: 0%\" aria-valuenow=\"0\" aria-valuemin=\"0\" aria-valuemax=\"100\"></div>\n",
       "</div>\n"
      ]
     },
     "metadata": {},
     "output_type": "display_data"
    },
    {
     "data": {
      "text/html": [
       "<div>\n",
       "  <span style=\"float: left;\">collect at cmd14.sc:10</span>\n",
       "</div>\n"
      ]
     },
     "metadata": {},
     "output_type": "display_data"
    },
    {
     "data": {
      "text/html": [
       "<div class=\"progress\">\n",
       "  <div class=\"progress-bar\" role=\"progressbar\" style=\"background-color: blue; width: 100%; word-wrap: normal; white-space: nowrap; text-align: center; color: white\" aria-valuenow=\"100\" aria-valuemin=\"0\" aria-valuemax=\"100\">\n",
       "    200 / 200\n",
       "  </div>\n",
       "  <div class=\"progress-bar\" role=\"progressbar\" style=\"background-color: red; width: 0%\" aria-valuenow=\"0\" aria-valuemin=\"0\" aria-valuemax=\"100\"></div>\n",
       "</div>\n"
      ]
     },
     "metadata": {},
     "output_type": "display_data"
    },
    {
     "data": {
      "text/html": [
       "<div>\n",
       "  <span style=\"float: left;\">collect at cmd14.sc:10</span>\n",
       "</div>\n"
      ]
     },
     "metadata": {},
     "output_type": "display_data"
    },
    {
     "data": {
      "text/html": [
       "<div class=\"progress\">\n",
       "  <div class=\"progress-bar\" role=\"progressbar\" style=\"background-color: blue; width: 100%; word-wrap: normal; white-space: nowrap; text-align: center; color: white\" aria-valuenow=\"100\" aria-valuemin=\"0\" aria-valuemax=\"100\">\n",
       "    200 / 200\n",
       "  </div>\n",
       "  <div class=\"progress-bar\" role=\"progressbar\" style=\"background-color: red; width: 0%\" aria-valuenow=\"0\" aria-valuemin=\"0\" aria-valuemax=\"100\"></div>\n",
       "</div>\n"
      ]
     },
     "metadata": {},
     "output_type": "display_data"
    },
    {
     "data": {
      "text/html": [
       "<div>\n",
       "  <span style=\"float: left;\">collect at cmd14.sc:10</span>\n",
       "</div>\n"
      ]
     },
     "metadata": {},
     "output_type": "display_data"
    },
    {
     "data": {
      "text/html": [
       "<div class=\"progress\">\n",
       "  <div class=\"progress-bar\" role=\"progressbar\" style=\"background-color: blue; width: 100%; word-wrap: normal; white-space: nowrap; text-align: center; color: white\" aria-valuenow=\"100\" aria-valuemin=\"0\" aria-valuemax=\"100\">\n",
       "    72 / 72\n",
       "  </div>\n",
       "  <div class=\"progress-bar\" role=\"progressbar\" style=\"background-color: red; width: 0%\" aria-valuenow=\"0\" aria-valuemin=\"0\" aria-valuemax=\"100\"></div>\n",
       "</div>\n"
      ]
     },
     "metadata": {},
     "output_type": "display_data"
    },
    {
     "data": {
      "text/html": [
       "<div>\n",
       "  <span style=\"float: left;\">collect at cmd14.sc:10</span>\n",
       "</div>\n"
      ]
     },
     "metadata": {},
     "output_type": "display_data"
    },
    {
     "data": {
      "text/html": [
       "<div class=\"progress\">\n",
       "  <div class=\"progress-bar\" role=\"progressbar\" style=\"background-color: blue; width: 100%; word-wrap: normal; white-space: nowrap; text-align: center; color: white\" aria-valuenow=\"100\" aria-valuemin=\"0\" aria-valuemax=\"100\">\n",
       "    200 / 200\n",
       "  </div>\n",
       "  <div class=\"progress-bar\" role=\"progressbar\" style=\"background-color: red; width: 0%\" aria-valuenow=\"0\" aria-valuemin=\"0\" aria-valuemax=\"100\"></div>\n",
       "</div>\n"
      ]
     },
     "metadata": {},
     "output_type": "display_data"
    },
    {
     "data": {
      "text/plain": [
       "\u001b[36mpopularity_of_objects\u001b[39m: \u001b[32mArray\u001b[39m[\u001b[32mRow\u001b[39m] = \u001b[33mArray\u001b[39m(\n",
       "  [603629,WrappedArray(0, 1, 2, 3, 4, 5, 6, 7, 8, 9, 10, 11, 12, 13, 14, 15, 16, 17, 18, 19, 20, 21, 22, 23),WrappedArray(193, 231, 204, 197, 213, 210, 212, 193, 200, 208, 221, 208, 216, 203, 199, 213, 193, 207, 189, 225, 213, 195, 189, 214)],\n",
       "  [1282812,WrappedArray(0, 1, 2, 3, 4, 5, 6, 7, 8, 9, 10, 11, 12, 13, 14, 15, 16, 17, 18, 19, 20, 21, 22, 23),WrappedArray(220, 207, 219, 205, 220, 214, 235, 221, 214, 201, 221, 212, 204, 210, 201, 203, 162, 221, 197, 204, 212, 218, 206, 204)],\n",
       "  [535842,WrappedArray(0, 1, 2, 3, 4, 5, 6, 7, 8, 9, 10, 11, 12, 13, 14, 15, 16, 17, 18, 19, 20, 21, 22, 23),WrappedArray(285, 342, 307, 286, 348, 294, 281, 306, 304, 303, 312, 311, 327, 319, 290, 324, 328, 343, 329, 302, 309, 316, 330, 305)]\n",
       ")"
      ]
     },
     "execution_count": 15,
     "metadata": {},
     "output_type": "execute_result"
    }
   ],
   "source": [
    "val popularity_of_objects = data.select(\"instanceId_objectId\", \"audit_timestamp\").\n",
    "                                 filter($\"instanceId_objectId\".isin(most_liked_groups: _*)).\n",
    "                                 withColumn(\"hour\", hour(to_timestamp(col(\"audit_timestamp\")))).\n",
    "                                 drop(\"audit_timestamp\").\n",
    "                                 groupBy(\"instanceId_objectId\", \"hour\").\n",
    "                                 count().\n",
    "                                 sort($\"instanceId_objectId\".asc, $\"hour\".asc).\n",
    "                                 groupBy(\"instanceId_objectId\").\n",
    "                                 agg(collect_list($\"hour\").alias(\"hour\"),\n",
    "                                     collect_list($\"count\").alias(\"count\")\n",
    "                                 ).\n",
    "                                 collect()"
   ]
  },
  {
   "cell_type": "markdown",
   "metadata": {},
   "source": [
    "Визуализируем полученные результаты."
   ]
  },
  {
   "cell_type": "code",
   "execution_count": 16,
   "metadata": {},
   "outputs": [
    {
     "data": {
      "application/vnd.plotly.v1+json": {
       "config": {},
       "data": [
        {
         "type": "bar",
         "x": [
          "H0",
          "H1",
          "H2",
          "H3",
          "H4",
          "H5",
          "H6",
          "H7",
          "H8",
          "H9",
          "H10",
          "H11",
          "H12",
          "H13",
          "H14",
          "H15",
          "H16",
          "H17",
          "H18",
          "H19",
          "H20",
          "H21",
          "H22",
          "H23"
         ],
         "y": [
          193,
          231,
          204,
          197,
          213,
          210,
          212,
          193,
          200,
          208,
          221,
          208,
          216,
          203,
          199,
          213,
          193,
          207,
          189,
          225,
          213,
          195,
          189,
          214
         ]
        }
       ],
       "layout": {
        "title": "Popularity time distribution for object 603629"
       }
      },
      "text/html": [
       "<div class=\"chart\" id=\"plot-f7f7f570-0a7b-408e-afd0-3556160a5a5d\"></div>\n",
       "<script>require(['plotly'], function(Plotly) {\n",
       "  (function () {\n",
       "  var data0 = {\"x\":[\"H0\",\"H1\",\"H2\",\"H3\",\"H4\",\"H5\",\"H6\",\"H7\",\"H8\",\"H9\",\"H10\",\"H11\",\"H12\",\"H13\",\"H14\",\"H15\",\"H16\",\"H17\",\"H18\",\"H19\",\"H20\",\"H21\",\"H22\",\"H23\"],\"y\":[193.0,231.0,204.0,197.0,213.0,210.0,212.0,193.0,200.0,208.0,221.0,208.0,216.0,203.0,199.0,213.0,193.0,207.0,189.0,225.0,213.0,195.0,189.0,214.0],\"type\":\"bar\"};\n",
       "\n",
       "  var data = [data0];\n",
       "  var layout = {\"title\":\"Popularity time distribution for object 603629\"};\n",
       " var config = {};\n",
       "\n",
       "  Plotly.plot('plot-f7f7f570-0a7b-408e-afd0-3556160a5a5d', data, layout, config);\n",
       "})();\n",
       "});\n",
       "      </script>\n",
       "           "
      ]
     },
     "metadata": {},
     "output_type": "display_data"
    },
    {
     "data": {
      "application/vnd.plotly.v1+json": {
       "config": {},
       "data": [
        {
         "type": "bar",
         "x": [
          "H0",
          "H1",
          "H2",
          "H3",
          "H4",
          "H5",
          "H6",
          "H7",
          "H8",
          "H9",
          "H10",
          "H11",
          "H12",
          "H13",
          "H14",
          "H15",
          "H16",
          "H17",
          "H18",
          "H19",
          "H20",
          "H21",
          "H22",
          "H23"
         ],
         "y": [
          220,
          207,
          219,
          205,
          220,
          214,
          235,
          221,
          214,
          201,
          221,
          212,
          204,
          210,
          201,
          203,
          162,
          221,
          197,
          204,
          212,
          218,
          206,
          204
         ]
        }
       ],
       "layout": {
        "title": "Popularity time distribution for object 1282812"
       }
      },
      "text/html": [
       "<div class=\"chart\" id=\"plot-36eb67ff-e38c-4209-ae8f-14f8f0d14945\"></div>\n",
       "<script>require(['plotly'], function(Plotly) {\n",
       "  (function () {\n",
       "  var data0 = {\"x\":[\"H0\",\"H1\",\"H2\",\"H3\",\"H4\",\"H5\",\"H6\",\"H7\",\"H8\",\"H9\",\"H10\",\"H11\",\"H12\",\"H13\",\"H14\",\"H15\",\"H16\",\"H17\",\"H18\",\"H19\",\"H20\",\"H21\",\"H22\",\"H23\"],\"y\":[220.0,207.0,219.0,205.0,220.0,214.0,235.0,221.0,214.0,201.0,221.0,212.0,204.0,210.0,201.0,203.0,162.0,221.0,197.0,204.0,212.0,218.0,206.0,204.0],\"type\":\"bar\"};\n",
       "\n",
       "  var data = [data0];\n",
       "  var layout = {\"title\":\"Popularity time distribution for object 1282812\"};\n",
       " var config = {};\n",
       "\n",
       "  Plotly.plot('plot-36eb67ff-e38c-4209-ae8f-14f8f0d14945', data, layout, config);\n",
       "})();\n",
       "});\n",
       "      </script>\n",
       "           "
      ]
     },
     "metadata": {},
     "output_type": "display_data"
    },
    {
     "data": {
      "application/vnd.plotly.v1+json": {
       "config": {},
       "data": [
        {
         "type": "bar",
         "x": [
          "H0",
          "H1",
          "H2",
          "H3",
          "H4",
          "H5",
          "H6",
          "H7",
          "H8",
          "H9",
          "H10",
          "H11",
          "H12",
          "H13",
          "H14",
          "H15",
          "H16",
          "H17",
          "H18",
          "H19",
          "H20",
          "H21",
          "H22",
          "H23"
         ],
         "y": [
          285,
          342,
          307,
          286,
          348,
          294,
          281,
          306,
          304,
          303,
          312,
          311,
          327,
          319,
          290,
          324,
          328,
          343,
          329,
          302,
          309,
          316,
          330,
          305
         ]
        }
       ],
       "layout": {
        "title": "Popularity time distribution for object 535842"
       }
      },
      "text/html": [
       "<div class=\"chart\" id=\"plot-22ae6e0a-6d5e-43a7-b0c9-21ea054a7692\"></div>\n",
       "<script>require(['plotly'], function(Plotly) {\n",
       "  (function () {\n",
       "  var data0 = {\"x\":[\"H0\",\"H1\",\"H2\",\"H3\",\"H4\",\"H5\",\"H6\",\"H7\",\"H8\",\"H9\",\"H10\",\"H11\",\"H12\",\"H13\",\"H14\",\"H15\",\"H16\",\"H17\",\"H18\",\"H19\",\"H20\",\"H21\",\"H22\",\"H23\"],\"y\":[285.0,342.0,307.0,286.0,348.0,294.0,281.0,306.0,304.0,303.0,312.0,311.0,327.0,319.0,290.0,324.0,328.0,343.0,329.0,302.0,309.0,316.0,330.0,305.0],\"type\":\"bar\"};\n",
       "\n",
       "  var data = [data0];\n",
       "  var layout = {\"title\":\"Popularity time distribution for object 535842\"};\n",
       " var config = {};\n",
       "\n",
       "  Plotly.plot('plot-22ae6e0a-6d5e-43a7-b0c9-21ea054a7692', data, layout, config);\n",
       "})();\n",
       "});\n",
       "      </script>\n",
       "           "
      ]
     },
     "metadata": {},
     "output_type": "display_data"
    }
   ],
   "source": [
    "popularity_of_objects.foreach( x => {\n",
    "    val groups = x(1).asInstanceOf[WrappedArray[Integer]].map(x => \"H\" + x.toString).toList\n",
    "    val counts = x(2).asInstanceOf[WrappedArray[Long]].toList\n",
    "    plot_top_objects(\"Popularity time distribution for object \" + x(0).toString, groups, counts)\n",
    "})"
   ]
  },
  {
   "cell_type": "markdown",
   "metadata": {},
   "source": [
    "Аналогичным образом построим гистограммы активности пользователей по времени суток. Алгоритм решения такой же, как и для предыдущего примера, кроме того факта, что активностью пользователя можно считать не только простановку \"лайка\", но и любое действие с объектом. Поэтому, фильтрацию по конкретным значениям атрибута ``feedback`` делать не нужно."
   ]
  },
  {
   "cell_type": "code",
   "execution_count": 17,
   "metadata": {},
   "outputs": [
    {
     "data": {
      "text/html": [
       "<div>\n",
       "  <span style=\"float: left;\">take at cmd16.sc:5</span>\n",
       "</div>\n"
      ]
     },
     "metadata": {},
     "output_type": "display_data"
    },
    {
     "data": {
      "text/html": [
       "<div class=\"progress\">\n",
       "  <div class=\"progress-bar\" role=\"progressbar\" style=\"background-color: blue; width: 100%; word-wrap: normal; white-space: nowrap; text-align: center; color: white\" aria-valuenow=\"100\" aria-valuemin=\"0\" aria-valuemax=\"100\">\n",
       "    332 / 332\n",
       "  </div>\n",
       "  <div class=\"progress-bar\" role=\"progressbar\" style=\"background-color: red; width: 0%\" aria-valuenow=\"0\" aria-valuemin=\"0\" aria-valuemax=\"100\"></div>\n",
       "</div>\n"
      ]
     },
     "metadata": {},
     "output_type": "display_data"
    },
    {
     "data": {
      "text/html": [
       "<div>\n",
       "  <span style=\"float: left;\">take at cmd16.sc:5</span>\n",
       "</div>\n"
      ]
     },
     "metadata": {},
     "output_type": "display_data"
    },
    {
     "data": {
      "text/html": [
       "<div class=\"progress\">\n",
       "  <div class=\"progress-bar\" role=\"progressbar\" style=\"background-color: blue; width: 100%; word-wrap: normal; white-space: nowrap; text-align: center; color: white\" aria-valuenow=\"100\" aria-valuemin=\"0\" aria-valuemax=\"100\">\n",
       "    200 / 200\n",
       "  </div>\n",
       "  <div class=\"progress-bar\" role=\"progressbar\" style=\"background-color: red; width: 0%\" aria-valuenow=\"0\" aria-valuemin=\"0\" aria-valuemax=\"100\"></div>\n",
       "</div>\n"
      ]
     },
     "metadata": {},
     "output_type": "display_data"
    },
    {
     "data": {
      "text/plain": [
       "\u001b[36mactive_users\u001b[39m: \u001b[32mArray\u001b[39m[\u001b[32mRow\u001b[39m] = \u001b[33mArray\u001b[39m(\n",
       "  [6579093,1742],\n",
       "  [7543269,1607],\n",
       "  [14777547,1541]\n",
       ")"
      ]
     },
     "execution_count": 17,
     "metadata": {},
     "output_type": "execute_result"
    }
   ],
   "source": [
    "val active_users = data.select(\"instanceId_userId\").\n",
    "    groupBy(\"instanceId_userId\").\n",
    "    count().\n",
    "    sort($\"count\".desc).\n",
    "    take(3)"
   ]
  },
  {
   "cell_type": "code",
   "execution_count": 18,
   "metadata": {},
   "outputs": [
    {
     "data": {
      "text/plain": [
       "\u001b[36mmost_active_users\u001b[39m: \u001b[32mArray\u001b[39m[\u001b[32mInt\u001b[39m] = \u001b[33mArray\u001b[39m(\u001b[32m6579093\u001b[39m, \u001b[32m7543269\u001b[39m, \u001b[32m14777547\u001b[39m)"
      ]
     },
     "execution_count": 18,
     "metadata": {},
     "output_type": "execute_result"
    }
   ],
   "source": [
    "val most_active_users = active_users.map(x => x(0).asInstanceOf[Int])"
   ]
  },
  {
   "cell_type": "code",
   "execution_count": 19,
   "metadata": {},
   "outputs": [
    {
     "data": {
      "text/html": [
       "<div>\n",
       "  <span style=\"float: left;\">collect at cmd18.sc:10</span>\n",
       "</div>\n"
      ]
     },
     "metadata": {},
     "output_type": "display_data"
    },
    {
     "data": {
      "text/html": [
       "<div class=\"progress\">\n",
       "  <div class=\"progress-bar\" role=\"progressbar\" style=\"background-color: blue; width: 100%; word-wrap: normal; white-space: nowrap; text-align: center; color: white\" aria-valuenow=\"100\" aria-valuemin=\"0\" aria-valuemax=\"100\">\n",
       "    332 / 332\n",
       "  </div>\n",
       "  <div class=\"progress-bar\" role=\"progressbar\" style=\"background-color: red; width: 0%\" aria-valuenow=\"0\" aria-valuemin=\"0\" aria-valuemax=\"100\"></div>\n",
       "</div>\n"
      ]
     },
     "metadata": {},
     "output_type": "display_data"
    },
    {
     "data": {
      "text/html": [
       "<div>\n",
       "  <span style=\"float: left;\">collect at cmd18.sc:10</span>\n",
       "</div>\n"
      ]
     },
     "metadata": {},
     "output_type": "display_data"
    },
    {
     "data": {
      "text/html": [
       "<div class=\"progress\">\n",
       "  <div class=\"progress-bar\" role=\"progressbar\" style=\"background-color: blue; width: 100%; word-wrap: normal; white-space: nowrap; text-align: center; color: white\" aria-valuenow=\"100\" aria-valuemin=\"0\" aria-valuemax=\"100\">\n",
       "    200 / 200\n",
       "  </div>\n",
       "  <div class=\"progress-bar\" role=\"progressbar\" style=\"background-color: red; width: 0%\" aria-valuenow=\"0\" aria-valuemin=\"0\" aria-valuemax=\"100\"></div>\n",
       "</div>\n"
      ]
     },
     "metadata": {},
     "output_type": "display_data"
    },
    {
     "data": {
      "text/html": [
       "<div>\n",
       "  <span style=\"float: left;\">collect at cmd18.sc:10</span>\n",
       "</div>\n"
      ]
     },
     "metadata": {},
     "output_type": "display_data"
    },
    {
     "data": {
      "text/html": [
       "<div class=\"progress\">\n",
       "  <div class=\"progress-bar\" role=\"progressbar\" style=\"background-color: blue; width: 100%; word-wrap: normal; white-space: nowrap; text-align: center; color: white\" aria-valuenow=\"100\" aria-valuemin=\"0\" aria-valuemax=\"100\">\n",
       "    200 / 200\n",
       "  </div>\n",
       "  <div class=\"progress-bar\" role=\"progressbar\" style=\"background-color: red; width: 0%\" aria-valuenow=\"0\" aria-valuemin=\"0\" aria-valuemax=\"100\"></div>\n",
       "</div>\n"
      ]
     },
     "metadata": {},
     "output_type": "display_data"
    },
    {
     "data": {
      "text/html": [
       "<div>\n",
       "  <span style=\"float: left;\">collect at cmd18.sc:10</span>\n",
       "</div>\n"
      ]
     },
     "metadata": {},
     "output_type": "display_data"
    },
    {
     "data": {
      "text/html": [
       "<div class=\"progress\">\n",
       "  <div class=\"progress-bar\" role=\"progressbar\" style=\"background-color: blue; width: 100%; word-wrap: normal; white-space: nowrap; text-align: center; color: white\" aria-valuenow=\"100\" aria-valuemin=\"0\" aria-valuemax=\"100\">\n",
       "    72 / 72\n",
       "  </div>\n",
       "  <div class=\"progress-bar\" role=\"progressbar\" style=\"background-color: red; width: 0%\" aria-valuenow=\"0\" aria-valuemin=\"0\" aria-valuemax=\"100\"></div>\n",
       "</div>\n"
      ]
     },
     "metadata": {},
     "output_type": "display_data"
    },
    {
     "data": {
      "text/html": [
       "<div>\n",
       "  <span style=\"float: left;\">collect at cmd18.sc:10</span>\n",
       "</div>\n"
      ]
     },
     "metadata": {},
     "output_type": "display_data"
    },
    {
     "data": {
      "text/html": [
       "<div class=\"progress\">\n",
       "  <div class=\"progress-bar\" role=\"progressbar\" style=\"background-color: blue; width: 100%; word-wrap: normal; white-space: nowrap; text-align: center; color: white\" aria-valuenow=\"100\" aria-valuemin=\"0\" aria-valuemax=\"100\">\n",
       "    200 / 200\n",
       "  </div>\n",
       "  <div class=\"progress-bar\" role=\"progressbar\" style=\"background-color: red; width: 0%\" aria-valuenow=\"0\" aria-valuemin=\"0\" aria-valuemax=\"100\"></div>\n",
       "</div>\n"
      ]
     },
     "metadata": {},
     "output_type": "display_data"
    },
    {
     "data": {
      "text/plain": [
       "\u001b[36mactivity_of_users\u001b[39m: \u001b[32mArray\u001b[39m[\u001b[32mRow\u001b[39m] = \u001b[33mArray\u001b[39m(\n",
       "  [14777547,WrappedArray(0, 1, 2, 3, 4, 5, 6, 7, 8, 9, 10, 11, 12, 13, 14, 15, 16, 17, 18, 19, 20, 21, 22, 23),WrappedArray(53, 59, 73, 40, 57, 79, 63, 73, 75, 43, 47, 77, 61, 66, 73, 71, 68, 97, 53, 55, 69, 70, 56, 63)],\n",
       "  [6579093,WrappedArray(0, 1, 2, 3, 4, 5, 6, 7, 8, 9, 10, 11, 12, 13, 14, 15, 16, 17, 18, 19, 20, 21, 22, 23),WrappedArray(51, 78, 73, 76, 39, 88, 76, 73, 77, 65, 66, 63, 114, 76, 75, 72, 62, 81, 60, 84, 64, 73, 63, 93)],\n",
       "  [7543269,WrappedArray(0, 1, 2, 3, 4, 5, 6, 7, 8, 9, 10, 11, 12, 13, 14, 15, 16, 17, 18, 19, 20, 21, 22, 23),WrappedArray(72, 69, 66, 72, 69, 59, 65, 70, 60, 75, 84, 69, 38, 69, 78, 78, 67, 55, 81, 53, 68, 81, 53, 56)]\n",
       ")"
      ]
     },
     "execution_count": 19,
     "metadata": {},
     "output_type": "execute_result"
    }
   ],
   "source": [
    "val activity_of_users = data.select(\"instanceId_userId\", \"audit_timestamp\").\n",
    "                             filter($\"instanceId_userId\".isin(most_active_users: _*)).\n",
    "                             withColumn(\"hour\", hour(to_timestamp(col(\"audit_timestamp\")))).\n",
    "                             drop(\"audit_timestamp\").\n",
    "                             groupBy(\"instanceId_userId\", \"hour\").\n",
    "                             count().\n",
    "                             sort($\"instanceId_userId\".asc, $\"hour\".asc).\n",
    "                             groupBy(\"instanceId_userId\").\n",
    "                             agg(collect_list($\"hour\").alias(\"hour\"),\n",
    "                                 collect_list($\"count\").alias(\"count\")\n",
    "                             ).\n",
    "                             collect()"
   ]
  },
  {
   "cell_type": "code",
   "execution_count": 20,
   "metadata": {},
   "outputs": [
    {
     "data": {
      "application/vnd.plotly.v1+json": {
       "config": {},
       "data": [
        {
         "type": "bar",
         "x": [
          "H0",
          "H1",
          "H2",
          "H3",
          "H4",
          "H5",
          "H6",
          "H7",
          "H8",
          "H9",
          "H10",
          "H11",
          "H12",
          "H13",
          "H14",
          "H15",
          "H16",
          "H17",
          "H18",
          "H19",
          "H20",
          "H21",
          "H22",
          "H23"
         ],
         "y": [
          53,
          59,
          73,
          40,
          57,
          79,
          63,
          73,
          75,
          43,
          47,
          77,
          61,
          66,
          73,
          71,
          68,
          97,
          53,
          55,
          69,
          70,
          56,
          63
         ]
        }
       ],
       "layout": {
        "title": "Activities time distribution for user 14777547"
       }
      },
      "text/html": [
       "<div class=\"chart\" id=\"plot-97383392-8b71-45ce-9254-e09f17dc7858\"></div>\n",
       "<script>require(['plotly'], function(Plotly) {\n",
       "  (function () {\n",
       "  var data0 = {\"x\":[\"H0\",\"H1\",\"H2\",\"H3\",\"H4\",\"H5\",\"H6\",\"H7\",\"H8\",\"H9\",\"H10\",\"H11\",\"H12\",\"H13\",\"H14\",\"H15\",\"H16\",\"H17\",\"H18\",\"H19\",\"H20\",\"H21\",\"H22\",\"H23\"],\"y\":[53.0,59.0,73.0,40.0,57.0,79.0,63.0,73.0,75.0,43.0,47.0,77.0,61.0,66.0,73.0,71.0,68.0,97.0,53.0,55.0,69.0,70.0,56.0,63.0],\"type\":\"bar\"};\n",
       "\n",
       "  var data = [data0];\n",
       "  var layout = {\"title\":\"Activities time distribution for user 14777547\"};\n",
       " var config = {};\n",
       "\n",
       "  Plotly.plot('plot-97383392-8b71-45ce-9254-e09f17dc7858', data, layout, config);\n",
       "})();\n",
       "});\n",
       "      </script>\n",
       "           "
      ]
     },
     "metadata": {},
     "output_type": "display_data"
    },
    {
     "data": {
      "application/vnd.plotly.v1+json": {
       "config": {},
       "data": [
        {
         "type": "bar",
         "x": [
          "H0",
          "H1",
          "H2",
          "H3",
          "H4",
          "H5",
          "H6",
          "H7",
          "H8",
          "H9",
          "H10",
          "H11",
          "H12",
          "H13",
          "H14",
          "H15",
          "H16",
          "H17",
          "H18",
          "H19",
          "H20",
          "H21",
          "H22",
          "H23"
         ],
         "y": [
          51,
          78,
          73,
          76,
          39,
          88,
          76,
          73,
          77,
          65,
          66,
          63,
          114,
          76,
          75,
          72,
          62,
          81,
          60,
          84,
          64,
          73,
          63,
          93
         ]
        }
       ],
       "layout": {
        "title": "Activities time distribution for user 6579093"
       }
      },
      "text/html": [
       "<div class=\"chart\" id=\"plot-a2f40b8b-5bc5-42ab-99d3-95eeb2a68ef8\"></div>\n",
       "<script>require(['plotly'], function(Plotly) {\n",
       "  (function () {\n",
       "  var data0 = {\"x\":[\"H0\",\"H1\",\"H2\",\"H3\",\"H4\",\"H5\",\"H6\",\"H7\",\"H8\",\"H9\",\"H10\",\"H11\",\"H12\",\"H13\",\"H14\",\"H15\",\"H16\",\"H17\",\"H18\",\"H19\",\"H20\",\"H21\",\"H22\",\"H23\"],\"y\":[51.0,78.0,73.0,76.0,39.0,88.0,76.0,73.0,77.0,65.0,66.0,63.0,114.0,76.0,75.0,72.0,62.0,81.0,60.0,84.0,64.0,73.0,63.0,93.0],\"type\":\"bar\"};\n",
       "\n",
       "  var data = [data0];\n",
       "  var layout = {\"title\":\"Activities time distribution for user 6579093\"};\n",
       " var config = {};\n",
       "\n",
       "  Plotly.plot('plot-a2f40b8b-5bc5-42ab-99d3-95eeb2a68ef8', data, layout, config);\n",
       "})();\n",
       "});\n",
       "      </script>\n",
       "           "
      ]
     },
     "metadata": {},
     "output_type": "display_data"
    },
    {
     "data": {
      "application/vnd.plotly.v1+json": {
       "config": {},
       "data": [
        {
         "type": "bar",
         "x": [
          "H0",
          "H1",
          "H2",
          "H3",
          "H4",
          "H5",
          "H6",
          "H7",
          "H8",
          "H9",
          "H10",
          "H11",
          "H12",
          "H13",
          "H14",
          "H15",
          "H16",
          "H17",
          "H18",
          "H19",
          "H20",
          "H21",
          "H22",
          "H23"
         ],
         "y": [
          72,
          69,
          66,
          72,
          69,
          59,
          65,
          70,
          60,
          75,
          84,
          69,
          38,
          69,
          78,
          78,
          67,
          55,
          81,
          53,
          68,
          81,
          53,
          56
         ]
        }
       ],
       "layout": {
        "title": "Activities time distribution for user 7543269"
       }
      },
      "text/html": [
       "<div class=\"chart\" id=\"plot-09d7d602-7f78-46a7-8074-c7ab8e747ebd\"></div>\n",
       "<script>require(['plotly'], function(Plotly) {\n",
       "  (function () {\n",
       "  var data0 = {\"x\":[\"H0\",\"H1\",\"H2\",\"H3\",\"H4\",\"H5\",\"H6\",\"H7\",\"H8\",\"H9\",\"H10\",\"H11\",\"H12\",\"H13\",\"H14\",\"H15\",\"H16\",\"H17\",\"H18\",\"H19\",\"H20\",\"H21\",\"H22\",\"H23\"],\"y\":[72.0,69.0,66.0,72.0,69.0,59.0,65.0,70.0,60.0,75.0,84.0,69.0,38.0,69.0,78.0,78.0,67.0,55.0,81.0,53.0,68.0,81.0,53.0,56.0],\"type\":\"bar\"};\n",
       "\n",
       "  var data = [data0];\n",
       "  var layout = {\"title\":\"Activities time distribution for user 7543269\"};\n",
       " var config = {};\n",
       "\n",
       "  Plotly.plot('plot-09d7d602-7f78-46a7-8074-c7ab8e747ebd', data, layout, config);\n",
       "})();\n",
       "});\n",
       "      </script>\n",
       "           "
      ]
     },
     "metadata": {},
     "output_type": "display_data"
    }
   ],
   "source": [
    "activity_of_users.foreach( x => {\n",
    "    val groups = x(1).asInstanceOf[WrappedArray[Integer]].map(x => \"H\" + x.toString).toList\n",
    "    val counts = x(2).asInstanceOf[WrappedArray[Long]].toList\n",
    "    plot_top_objects(\"Activities time distribution for user \" + x(0).toString, groups, counts)\n",
    "})"
   ]
  },
  {
   "cell_type": "markdown",
   "metadata": {},
   "source": [
    "Интересные графики получились. Такое чувство, что наиболее активные пользователи сидят в \"Одноклассниках\" круглосуточно..."
   ]
  },
  {
   "cell_type": "markdown",
   "metadata": {},
   "source": [
    "Теперь определим корреляцию признаков с целевой переменной. Как сказано в описании датасета, в соревновании требовалось построить для каждого пользователя список объектов, удовлетворяющий определенным условиям. Поэтому, логично предположить, что целевой переменной в нашем случае является ``instanceId_userId``. Данный признак является категориальным, что ограничивает множество методов, анализирующих корреляции между признаками. В работе принято решение выбрать несколько других категориальных признаков и проанализировать их корреляцию с целевой переменной способом $\\chi ^ 2$-test.\n",
    "\n",
    "Данный метод подразумевает расчет корреляции с использованием сводной таблицы всех значений пары категориальных признаков, участвующих в исследовании. Так как Spark ограничивает размер этой таблицы, а число различных значений целевой переменной довольно большое, то выберем 100 наиболее активных пользователей и построим статистику только для них."
   ]
  },
  {
   "cell_type": "code",
   "execution_count": 21,
   "metadata": {},
   "outputs": [
    {
     "data": {
      "text/html": [
       "<div>\n",
       "  <span style=\"float: left;\">take at cmd20.sc:2</span>\n",
       "</div>\n"
      ]
     },
     "metadata": {},
     "output_type": "display_data"
    },
    {
     "data": {
      "text/html": [
       "<div class=\"progress\">\n",
       "  <div class=\"progress-bar\" role=\"progressbar\" style=\"background-color: blue; width: 100%; word-wrap: normal; white-space: nowrap; text-align: center; color: white\" aria-valuenow=\"100\" aria-valuemin=\"0\" aria-valuemax=\"100\">\n",
       "    332 / 332\n",
       "  </div>\n",
       "  <div class=\"progress-bar\" role=\"progressbar\" style=\"background-color: red; width: 0%\" aria-valuenow=\"0\" aria-valuemin=\"0\" aria-valuemax=\"100\"></div>\n",
       "</div>\n"
      ]
     },
     "metadata": {},
     "output_type": "display_data"
    },
    {
     "data": {
      "text/html": [
       "<div>\n",
       "  <span style=\"float: left;\">take at cmd20.sc:2</span>\n",
       "</div>\n"
      ]
     },
     "metadata": {},
     "output_type": "display_data"
    },
    {
     "data": {
      "text/html": [
       "<div class=\"progress\">\n",
       "  <div class=\"progress-bar\" role=\"progressbar\" style=\"background-color: blue; width: 100%; word-wrap: normal; white-space: nowrap; text-align: center; color: white\" aria-valuenow=\"100\" aria-valuemin=\"0\" aria-valuemax=\"100\">\n",
       "    200 / 200\n",
       "  </div>\n",
       "  <div class=\"progress-bar\" role=\"progressbar\" style=\"background-color: red; width: 0%\" aria-valuenow=\"0\" aria-valuemin=\"0\" aria-valuemax=\"100\"></div>\n",
       "</div>\n"
      ]
     },
     "metadata": {},
     "output_type": "display_data"
    },
    {
     "data": {
      "text/plain": [
       "\u001b[36mactive_users\u001b[39m: \u001b[32mArray\u001b[39m[\u001b[32mInt\u001b[39m] = \u001b[33mArray\u001b[39m(\n",
       "  \u001b[32m6579093\u001b[39m,\n",
       "  \u001b[32m7543269\u001b[39m,\n",
       "  \u001b[32m14777547\u001b[39m,\n",
       "  \u001b[32m15323820\u001b[39m,\n",
       "  \u001b[32m14649588\u001b[39m,\n",
       "  \u001b[32m11452815\u001b[39m,\n",
       "  \u001b[32m7263396\u001b[39m,\n",
       "  \u001b[32m15112584\u001b[39m,\n",
       "  \u001b[32m14767260\u001b[39m,\n",
       "  \u001b[32m980694\u001b[39m,\n",
       "  \u001b[32m1037205\u001b[39m,\n",
       "  \u001b[32m10637391\u001b[39m,\n",
       "  \u001b[32m9720798\u001b[39m,\n",
       "  \u001b[32m12894429\u001b[39m,\n",
       "  \u001b[32m13616343\u001b[39m,\n",
       "  \u001b[32m15087672\u001b[39m,\n",
       "  \u001b[32m15188028\u001b[39m,\n",
       "  \u001b[32m9437079\u001b[39m,\n",
       "  \u001b[32m12275619\u001b[39m,\n",
       "  \u001b[32m10482393\u001b[39m,\n",
       "  \u001b[32m15362751\u001b[39m,\n",
       "  \u001b[32m10875126\u001b[39m,\n",
       "  \u001b[32m226227\u001b[39m,\n",
       "  \u001b[32m2129604\u001b[39m,\n",
       "  \u001b[32m8760873\u001b[39m,\n",
       "  \u001b[32m8604420\u001b[39m,\n",
       "  \u001b[32m5469291\u001b[39m,\n",
       "  \u001b[32m10077018\u001b[39m,\n",
       "  \u001b[32m7831497\u001b[39m,\n",
       "  \u001b[32m13091136\u001b[39m,\n",
       "  \u001b[32m6966822\u001b[39m,\n",
       "  \u001b[32m7374717\u001b[39m,\n",
       "  \u001b[32m3219927\u001b[39m,\n",
       "  \u001b[32m8880450\u001b[39m,\n",
       "  \u001b[32m8618208\u001b[39m,\n",
       "  \u001b[32m9768774\u001b[39m,\n",
       "  \u001b[32m13496352\u001b[39m,\n",
       "  \u001b[32m15347832\u001b[39m,\n",
       "...\n",
       "\u001b[36mclipped_users\u001b[39m: \u001b[32mDataset\u001b[39m[\u001b[32mRow\u001b[39m] = [instanceId_userId: int, instanceId_objectType: string ... 2 more fields]"
      ]
     },
     "execution_count": 21,
     "metadata": {},
     "output_type": "execute_result"
    }
   ],
   "source": [
    "val active_users = data.select(\"instanceId_userId\").\n",
    "                   groupBy(\"instanceId_userId\").count().sort($\"count\".desc).take(100).\n",
    "                   map(x => x(0).asInstanceOf[Int])\n",
    "\n",
    "val clipped_users = data.select(\"instanceId_userId\", \"instanceId_objectType\", \"user_gender\", \"metadata_ownerId\").\n",
    "                             filter($\"instanceId_userId\".isin(active_users: _*))"
   ]
  },
  {
   "cell_type": "code",
   "execution_count": 22,
   "metadata": {},
   "outputs": [
    {
     "data": {
      "text/html": [
       "<div>\n",
       "  <span style=\"float: left;\">show at cmd21.sc:1</span>\n",
       "</div>\n"
      ]
     },
     "metadata": {},
     "output_type": "display_data"
    },
    {
     "data": {
      "text/html": [
       "<div class=\"progress\">\n",
       "  <div class=\"progress-bar\" role=\"progressbar\" style=\"background-color: blue; width: 100%; word-wrap: normal; white-space: nowrap; text-align: center; color: white\" aria-valuenow=\"100\" aria-valuemin=\"0\" aria-valuemax=\"100\">\n",
       "    1 / 1\n",
       "  </div>\n",
       "  <div class=\"progress-bar\" role=\"progressbar\" style=\"background-color: red; width: 0%\" aria-valuenow=\"0\" aria-valuemin=\"0\" aria-valuemax=\"100\"></div>\n",
       "</div>\n"
      ]
     },
     "metadata": {},
     "output_type": "display_data"
    },
    {
     "name": "stdout",
     "output_type": "stream",
     "text": [
      "+-----------------+---------------------+-----------+----------------+\n",
      "|instanceId_userId|instanceId_objectType|user_gender|metadata_ownerId|\n",
      "+-----------------+---------------------+-----------+----------------+\n",
      "|           471426|                 Post|          1|           49570|\n",
      "|           471426|                 Post|          1|           57851|\n",
      "|           471426|                 Post|          1|           11193|\n",
      "|           471426|                 Post|          1|            4658|\n",
      "|           471426|                 Post|          1|           79089|\n",
      "|           471426|                 Post|          1|           79338|\n",
      "|           471426|                 Post|          1|           25197|\n",
      "|           471426|                Photo|          1|           22411|\n",
      "|           471426|                 Post|          1|           11193|\n",
      "|           471426|                 Post|          1|           37463|\n",
      "|           471426|                 Post|          1|           59867|\n",
      "|           471426|                 Post|          1|           25197|\n",
      "|           471426|                 Post|          1|           79089|\n",
      "|          2129604|                 Post|          1|           70840|\n",
      "|          2129604|                Video|          1|           32544|\n",
      "|          2129604|                 Post|          1|           21221|\n",
      "|          2129604|                 Post|          1|           29801|\n",
      "|          2129604|                 Post|          1|           14959|\n",
      "|          2129604|                 Post|          1|           32544|\n",
      "|          2129604|                 Post|          1|           70840|\n",
      "+-----------------+---------------------+-----------+----------------+\n",
      "only showing top 20 rows\n",
      "\n"
     ]
    }
   ],
   "source": [
    "clipped_users.show()"
   ]
  },
  {
   "cell_type": "markdown",
   "metadata": {},
   "source": [
    "Так как метод $\\chi ^2$-тест может работать только с числовыми признаками, проиндексируем строковые значения признака ``instanceId_objectType``. В качестве тестовых данных добавим \"фиктивный\" признак, все значения которого равны 1. Затем, соберем множество исследуемых признаков в MLLib-вектор для последующего анализа методом ``ChiSquareTest``."
   ]
  },
  {
   "cell_type": "code",
   "execution_count": 23,
   "metadata": {},
   "outputs": [
    {
     "data": {
      "text/html": [
       "<div>\n",
       "  <span style=\"float: left;\">countByValue at StringIndexer.scala:140</span>\n",
       "</div>\n"
      ]
     },
     "metadata": {},
     "output_type": "display_data"
    },
    {
     "data": {
      "text/html": [
       "<div class=\"progress\">\n",
       "  <div class=\"progress-bar\" role=\"progressbar\" style=\"background-color: blue; width: 100%; word-wrap: normal; white-space: nowrap; text-align: center; color: white\" aria-valuenow=\"100\" aria-valuemin=\"0\" aria-valuemax=\"100\">\n",
       "    332 / 332\n",
       "  </div>\n",
       "  <div class=\"progress-bar\" role=\"progressbar\" style=\"background-color: red; width: 0%\" aria-valuenow=\"0\" aria-valuemin=\"0\" aria-valuemax=\"100\"></div>\n",
       "</div>\n"
      ]
     },
     "metadata": {},
     "output_type": "display_data"
    },
    {
     "data": {
      "text/html": [
       "<div>\n",
       "  <span style=\"float: left;\">countByValue at StringIndexer.scala:140</span>\n",
       "</div>\n"
      ]
     },
     "metadata": {},
     "output_type": "display_data"
    },
    {
     "data": {
      "text/html": [
       "<div class=\"progress\">\n",
       "  <div class=\"progress-bar\" role=\"progressbar\" style=\"background-color: blue; width: 100%; word-wrap: normal; white-space: nowrap; text-align: center; color: white\" aria-valuenow=\"100\" aria-valuemin=\"0\" aria-valuemax=\"100\">\n",
       "    332 / 332\n",
       "  </div>\n",
       "  <div class=\"progress-bar\" role=\"progressbar\" style=\"background-color: red; width: 0%\" aria-valuenow=\"0\" aria-valuemin=\"0\" aria-valuemax=\"100\"></div>\n",
       "</div>\n"
      ]
     },
     "metadata": {},
     "output_type": "display_data"
    },
    {
     "data": {
      "text/html": [
       "<div>\n",
       "  <span style=\"float: left;\">show at cmd22.sc:21</span>\n",
       "</div>\n"
      ]
     },
     "metadata": {},
     "output_type": "display_data"
    },
    {
     "data": {
      "text/html": [
       "<div class=\"progress\">\n",
       "  <div class=\"progress-bar\" role=\"progressbar\" style=\"background-color: blue; width: 100%; word-wrap: normal; white-space: nowrap; text-align: center; color: white\" aria-valuenow=\"100\" aria-valuemin=\"0\" aria-valuemax=\"100\">\n",
       "    1 / 1\n",
       "  </div>\n",
       "  <div class=\"progress-bar\" role=\"progressbar\" style=\"background-color: red; width: 0%\" aria-valuenow=\"0\" aria-valuemin=\"0\" aria-valuemax=\"100\"></div>\n",
       "</div>\n"
      ]
     },
     "metadata": {},
     "output_type": "display_data"
    },
    {
     "name": "stdout",
     "output_type": "stream",
     "text": [
      "+---------------------+-----------------+-----------+----------------+---------------------------+------+--------------------+\n",
      "|instanceId_objectType|instanceId_userId|user_gender|metadata_ownerId|instanceId_objectType_index|newcol|            features|\n",
      "+---------------------+-----------------+-----------+----------------+---------------------------+------+--------------------+\n",
      "|                 Post|           471426|          1|           49570|                        0.0|     1|[0.0,1.0,471426.0...|\n",
      "|                 Post|           471426|          1|           57851|                        0.0|     1|[0.0,1.0,471426.0...|\n",
      "|                 Post|           471426|          1|           11193|                        0.0|     1|[0.0,1.0,471426.0...|\n",
      "|                 Post|           471426|          1|            4658|                        0.0|     1|[0.0,1.0,471426.0...|\n",
      "|                 Post|           471426|          1|           79089|                        0.0|     1|[0.0,1.0,471426.0...|\n",
      "|                 Post|           471426|          1|           79338|                        0.0|     1|[0.0,1.0,471426.0...|\n",
      "|                 Post|           471426|          1|           25197|                        0.0|     1|[0.0,1.0,471426.0...|\n",
      "|                Photo|           471426|          1|           22411|                        1.0|     1|[1.0,1.0,471426.0...|\n",
      "|                 Post|           471426|          1|           11193|                        0.0|     1|[0.0,1.0,471426.0...|\n",
      "|                 Post|           471426|          1|           37463|                        0.0|     1|[0.0,1.0,471426.0...|\n",
      "|                 Post|           471426|          1|           59867|                        0.0|     1|[0.0,1.0,471426.0...|\n",
      "|                 Post|           471426|          1|           25197|                        0.0|     1|[0.0,1.0,471426.0...|\n",
      "|                 Post|           471426|          1|           79089|                        0.0|     1|[0.0,1.0,471426.0...|\n",
      "|                 Post|          2129604|          1|           70840|                        0.0|     1|[0.0,1.0,2129604....|\n",
      "|                Video|          2129604|          1|           32544|                        2.0|     1|[2.0,1.0,2129604....|\n",
      "|                 Post|          2129604|          1|           21221|                        0.0|     1|[0.0,1.0,2129604....|\n",
      "|                 Post|          2129604|          1|           29801|                        0.0|     1|[0.0,1.0,2129604....|\n",
      "|                 Post|          2129604|          1|           14959|                        0.0|     1|[0.0,1.0,2129604....|\n",
      "|                 Post|          2129604|          1|           32544|                        0.0|     1|[0.0,1.0,2129604....|\n",
      "|                 Post|          2129604|          1|           70840|                        0.0|     1|[0.0,1.0,2129604....|\n",
      "+---------------------+-----------------+-----------+----------------+---------------------------+------+--------------------+\n",
      "only showing top 20 rows\n",
      "\n"
     ]
    },
    {
     "data": {
      "text/plain": [
       "\u001b[32mimport \u001b[39m\u001b[36morg.apache.spark.ml.stat.ChiSquareTest\n",
       "\u001b[39m\n",
       "\u001b[32mimport \u001b[39m\u001b[36morg.apache.spark.ml.feature.VectorAssembler\n",
       "\u001b[39m\n",
       "\u001b[32mimport \u001b[39m\u001b[36morg.apache.spark.ml.feature.StringIndexer\n",
       "\n",
       "\u001b[39m\n",
       "\u001b[36mindexer\u001b[39m: \u001b[32mStringIndexer\u001b[39m = strIdx_2aa5a62e6207\n",
       "\u001b[36mindexed\u001b[39m: \u001b[32mDataFrame\u001b[39m = [instanceId_objectType: string, instanceId_userId: int ... 4 more fields]\n",
       "\u001b[36massembler\u001b[39m: \u001b[32mVectorAssembler\u001b[39m = vecAssembler_07c9b7af82eb\n",
       "\u001b[32mimport \u001b[39m\u001b[36morg.apache.spark.sql.functions.lit\n",
       "\u001b[39m\n",
       "\u001b[36moutput\u001b[39m: \u001b[32mDataFrame\u001b[39m = [instanceId_objectType: string, instanceId_userId: int ... 5 more fields]"
      ]
     },
     "execution_count": 23,
     "metadata": {},
     "output_type": "execute_result"
    }
   ],
   "source": [
    "import org.apache.spark.ml.stat.ChiSquareTest\n",
    "import org.apache.spark.ml.feature.VectorAssembler\n",
    "import org.apache.spark.ml.feature.StringIndexer\n",
    "\n",
    "val indexer = new StringIndexer()\n",
    "  .setInputCol(\"instanceId_objectType\")\n",
    "  .setOutputCol(\"instanceId_objectType_index\")\n",
    "\n",
    "val indexed = indexer.fit(\n",
    "    clipped_users.select(\"instanceId_objectType\", \"instanceId_userId\", \"user_gender\", \"metadata_ownerId\")\n",
    ").transform(\n",
    "    clipped_users.select(\"instanceId_objectType\", \"instanceId_userId\", \"user_gender\", \"metadata_ownerId\")\n",
    ").withColumn(\"newcol\",lit(1))\n",
    "\n",
    "val assembler = new VectorAssembler()\n",
    "  .setInputCols(Array(\"instanceId_objectType_index\", \"user_gender\", \"instanceId_userId\", \"newcol\", \"metadata_ownerId\"))\n",
    "  .setOutputCol(\"features\")\n",
    "\n",
    "import org.apache.spark.sql.functions.lit\n",
    "val output = assembler.transform(indexed)\n",
    "output.show()"
   ]
  },
  {
   "cell_type": "markdown",
   "metadata": {},
   "source": [
    "Выполним анализ корреляции выбранных признаков с целевой переменной, используя $\\chi ^2$-test."
   ]
  },
  {
   "cell_type": "code",
   "execution_count": 24,
   "metadata": {},
   "outputs": [
    {
     "data": {
      "text/html": [
       "<div>\n",
       "  <span style=\"float: left;\">first at ChiSqTest.scala:86</span>\n",
       "</div>\n"
      ]
     },
     "metadata": {},
     "output_type": "display_data"
    },
    {
     "data": {
      "text/html": [
       "<div class=\"progress\">\n",
       "  <div class=\"progress-bar\" role=\"progressbar\" style=\"background-color: blue; width: 100%; word-wrap: normal; white-space: nowrap; text-align: center; color: white\" aria-valuenow=\"100\" aria-valuemin=\"0\" aria-valuemax=\"100\">\n",
       "    1 / 1\n",
       "  </div>\n",
       "  <div class=\"progress-bar\" role=\"progressbar\" style=\"background-color: red; width: 0%\" aria-valuenow=\"0\" aria-valuemin=\"0\" aria-valuemax=\"100\"></div>\n",
       "</div>\n"
      ]
     },
     "metadata": {},
     "output_type": "display_data"
    },
    {
     "data": {
      "text/html": [
       "<div>\n",
       "  <span style=\"float: left;\">countByValue at ChiSqTest.scala:124</span>\n",
       "</div>\n"
      ]
     },
     "metadata": {},
     "output_type": "display_data"
    },
    {
     "data": {
      "text/html": [
       "<div class=\"progress\">\n",
       "  <div class=\"progress-bar\" role=\"progressbar\" style=\"background-color: blue; width: 100%; word-wrap: normal; white-space: nowrap; text-align: center; color: white\" aria-valuenow=\"100\" aria-valuemin=\"0\" aria-valuemax=\"100\">\n",
       "    332 / 332\n",
       "  </div>\n",
       "  <div class=\"progress-bar\" role=\"progressbar\" style=\"background-color: red; width: 0%\" aria-valuenow=\"0\" aria-valuemin=\"0\" aria-valuemax=\"100\"></div>\n",
       "</div>\n"
      ]
     },
     "metadata": {},
     "output_type": "display_data"
    },
    {
     "data": {
      "text/html": [
       "<div>\n",
       "  <span style=\"float: left;\">countByValue at ChiSqTest.scala:124</span>\n",
       "</div>\n"
      ]
     },
     "metadata": {},
     "output_type": "display_data"
    },
    {
     "data": {
      "text/html": [
       "<div class=\"progress\">\n",
       "  <div class=\"progress-bar\" role=\"progressbar\" style=\"background-color: blue; width: 100%; word-wrap: normal; white-space: nowrap; text-align: center; color: white\" aria-valuenow=\"100\" aria-valuemin=\"0\" aria-valuemax=\"100\">\n",
       "    332 / 332\n",
       "  </div>\n",
       "  <div class=\"progress-bar\" role=\"progressbar\" style=\"background-color: red; width: 0%\" aria-valuenow=\"0\" aria-valuemin=\"0\" aria-valuemax=\"100\"></div>\n",
       "</div>\n"
      ]
     },
     "metadata": {},
     "output_type": "display_data"
    },
    {
     "data": {
      "text/plain": [
       "\u001b[36mres23\u001b[39m: \u001b[32mArray\u001b[39m[\u001b[32mRow\u001b[39m] = \u001b[33mArray\u001b[39m(\n",
       "  [[0.0,0.0,0.0,1.0,0.0],WrappedArray(198, 99, 9801, 0, 625383),[9533.252577344,75081.00000000001,7433018.999999998,0.0,4433820.655121116]]\n",
       ")"
      ]
     },
     "execution_count": 24,
     "metadata": {},
     "output_type": "execute_result"
    }
   ],
   "source": [
    "ChiSquareTest.test(output, \"features\", \"instanceId_userId\").collect()"
   ]
  },
  {
   "cell_type": "markdown",
   "metadata": {},
   "source": [
    "Видно, что p-value только для \"фиктивного\" признака равен единице, что свидетельствует о том, что он не коррелирует с целевой переменной. Для всех остальных признаков ситуация обратная."
   ]
  },
  {
   "cell_type": "markdown",
   "metadata": {},
   "source": [
    "Вызывают беспокойство значения p-value, которые получились либо нулевыми, либо единичными. Попробуем оценить скоррелированность признаков ``instanceId_objectType`` и ``instanceId_userId``, реализовав расчет $\\chi ^2$-test без использования MLLib и сравнить результаты. Для этого составим сводную таблицу всех значений обоих признаков и по ней рассчитаем статистику."
   ]
  },
  {
   "cell_type": "code",
   "execution_count": 25,
   "metadata": {},
   "outputs": [
    {
     "data": {
      "text/html": [
       "<div>\n",
       "  <span style=\"float: left;\">crosstab at cmd24.sc:2</span>\n",
       "</div>\n"
      ]
     },
     "metadata": {},
     "output_type": "display_data"
    },
    {
     "data": {
      "text/html": [
       "<div class=\"progress\">\n",
       "  <div class=\"progress-bar\" role=\"progressbar\" style=\"background-color: blue; width: 100%; word-wrap: normal; white-space: nowrap; text-align: center; color: white\" aria-valuenow=\"100\" aria-valuemin=\"0\" aria-valuemax=\"100\">\n",
       "    332 / 332\n",
       "  </div>\n",
       "  <div class=\"progress-bar\" role=\"progressbar\" style=\"background-color: red; width: 0%\" aria-valuenow=\"0\" aria-valuemin=\"0\" aria-valuemax=\"100\"></div>\n",
       "</div>\n"
      ]
     },
     "metadata": {},
     "output_type": "display_data"
    },
    {
     "data": {
      "text/html": [
       "<div>\n",
       "  <span style=\"float: left;\">crosstab at cmd24.sc:2</span>\n",
       "</div>\n"
      ]
     },
     "metadata": {},
     "output_type": "display_data"
    },
    {
     "data": {
      "text/html": [
       "<div class=\"progress\">\n",
       "  <div class=\"progress-bar\" role=\"progressbar\" style=\"background-color: blue; width: 100%; word-wrap: normal; white-space: nowrap; text-align: center; color: white\" aria-valuenow=\"100\" aria-valuemin=\"0\" aria-valuemax=\"100\">\n",
       "    1 / 1\n",
       "  </div>\n",
       "  <div class=\"progress-bar\" role=\"progressbar\" style=\"background-color: red; width: 0%\" aria-valuenow=\"0\" aria-valuemin=\"0\" aria-valuemax=\"100\"></div>\n",
       "</div>\n"
      ]
     },
     "metadata": {},
     "output_type": "display_data"
    },
    {
     "data": {
      "text/html": [
       "<div>\n",
       "  <span style=\"float: left;\">crosstab at cmd24.sc:2</span>\n",
       "</div>\n"
      ]
     },
     "metadata": {},
     "output_type": "display_data"
    },
    {
     "data": {
      "text/html": [
       "<div class=\"progress\">\n",
       "  <div class=\"progress-bar\" role=\"progressbar\" style=\"background-color: blue; width: 100%; word-wrap: normal; white-space: nowrap; text-align: center; color: white\" aria-valuenow=\"100\" aria-valuemin=\"0\" aria-valuemax=\"100\">\n",
       "    4 / 4\n",
       "  </div>\n",
       "  <div class=\"progress-bar\" role=\"progressbar\" style=\"background-color: red; width: 0%\" aria-valuenow=\"0\" aria-valuemin=\"0\" aria-valuemax=\"100\"></div>\n",
       "</div>\n"
      ]
     },
     "metadata": {},
     "output_type": "display_data"
    },
    {
     "data": {
      "text/html": [
       "<div>\n",
       "  <span style=\"float: left;\">crosstab at cmd24.sc:2</span>\n",
       "</div>\n"
      ]
     },
     "metadata": {},
     "output_type": "display_data"
    },
    {
     "data": {
      "text/html": [
       "<div class=\"progress\">\n",
       "  <div class=\"progress-bar\" role=\"progressbar\" style=\"background-color: blue; width: 100%; word-wrap: normal; white-space: nowrap; text-align: center; color: white\" aria-valuenow=\"100\" aria-valuemin=\"0\" aria-valuemax=\"100\">\n",
       "    20 / 20\n",
       "  </div>\n",
       "  <div class=\"progress-bar\" role=\"progressbar\" style=\"background-color: red; width: 0%\" aria-valuenow=\"0\" aria-valuemin=\"0\" aria-valuemax=\"100\"></div>\n",
       "</div>\n"
      ]
     },
     "metadata": {},
     "output_type": "display_data"
    },
    {
     "data": {
      "text/html": [
       "<div>\n",
       "  <span style=\"float: left;\">crosstab at cmd24.sc:2</span>\n",
       "</div>\n"
      ]
     },
     "metadata": {},
     "output_type": "display_data"
    },
    {
     "data": {
      "text/html": [
       "<div class=\"progress\">\n",
       "  <div class=\"progress-bar\" role=\"progressbar\" style=\"background-color: blue; width: 100%; word-wrap: normal; white-space: nowrap; text-align: center; color: white\" aria-valuenow=\"100\" aria-valuemin=\"0\" aria-valuemax=\"100\">\n",
       "    100 / 100\n",
       "  </div>\n",
       "  <div class=\"progress-bar\" role=\"progressbar\" style=\"background-color: red; width: 0%\" aria-valuenow=\"0\" aria-valuemin=\"0\" aria-valuemax=\"100\"></div>\n",
       "</div>\n"
      ]
     },
     "metadata": {},
     "output_type": "display_data"
    },
    {
     "data": {
      "text/html": [
       "<div>\n",
       "  <span style=\"float: left;\">crosstab at cmd24.sc:2</span>\n",
       "</div>\n"
      ]
     },
     "metadata": {},
     "output_type": "display_data"
    },
    {
     "data": {
      "text/html": [
       "<div class=\"progress\">\n",
       "  <div class=\"progress-bar\" role=\"progressbar\" style=\"background-color: blue; width: 100%; word-wrap: normal; white-space: nowrap; text-align: center; color: white\" aria-valuenow=\"100\" aria-valuemin=\"0\" aria-valuemax=\"100\">\n",
       "    75 / 75\n",
       "  </div>\n",
       "  <div class=\"progress-bar\" role=\"progressbar\" style=\"background-color: red; width: 0%\" aria-valuenow=\"0\" aria-valuemin=\"0\" aria-valuemax=\"100\"></div>\n",
       "</div>\n"
      ]
     },
     "metadata": {},
     "output_type": "display_data"
    },
    {
     "data": {
      "text/plain": [
       "\u001b[36mdf_cross\u001b[39m: \u001b[32mDataFrame\u001b[39m = [instanceId_userId_instanceId_objectType: string, Photo: bigint ... 2 more fields]"
      ]
     },
     "execution_count": 25,
     "metadata": {},
     "output_type": "execute_result"
    }
   ],
   "source": [
    "val df_cross = output.select(\"instanceId_objectType\", \"instanceId_userId\").\n",
    "    stat.crosstab(\"instanceId_userId\", \"instanceId_objectType\")"
   ]
  },
  {
   "cell_type": "code",
   "execution_count": 26,
   "metadata": {},
   "outputs": [
    {
     "name": "stdout",
     "output_type": "stream",
     "text": [
      "+---------------------------------------+-----+----+-----+\n",
      "|instanceId_userId_instanceId_objectType|Photo|Post|Video|\n",
      "+---------------------------------------+-----+----+-----+\n",
      "|                                 957861|   50| 616|   34|\n",
      "|                               14767260|  172| 862|   90|\n",
      "|                               10875126|  220| 576|   26|\n",
      "|                               12145905|   28| 585|   86|\n",
      "|                               13839342|   51| 647|   26|\n",
      "|                                3219927|   39| 625|  100|\n",
      "|                                9437079|   34| 787|   26|\n",
      "|                                4409550|  121| 494|   18|\n",
      "|                                9482301|   81| 534|   18|\n",
      "|                                8715546|   45| 604|   21|\n",
      "|                                9720723|  126| 472|   60|\n",
      "|                                 226227|   53| 720|   42|\n",
      "|                               13426485|   23| 554|   24|\n",
      "|                                2129604|   94| 698|   21|\n",
      "|                                7241721|   59| 488|   16|\n",
      "|                               13427610|   31| 525|    5|\n",
      "|                                8883312|   27| 547|   23|\n",
      "|                                9168297|  149| 548|   30|\n",
      "|                               15157416|   23| 571|   52|\n",
      "|                               12415191|  152| 502|   17|\n",
      "+---------------------------------------+-----+----+-----+\n",
      "only showing top 20 rows\n",
      "\n"
     ]
    }
   ],
   "source": [
    "df_cross.show()"
   ]
  },
  {
   "cell_type": "markdown",
   "metadata": {},
   "source": [
    "Сформируем несколько новых столбцов датафрейма со значениями сумм по строкам и столбцам для расчета [статистики](https://en.wikipedia.org/wiki/Chi-squared_test)."
   ]
  },
  {
   "cell_type": "code",
   "execution_count": 27,
   "metadata": {},
   "outputs": [
    {
     "data": {
      "text/plain": [
       "\u001b[36mdf_chi\u001b[39m: \u001b[32mDataFrame\u001b[39m = [Photo: bigint, Post: bigint ... 12 more fields]"
      ]
     },
     "execution_count": 27,
     "metadata": {},
     "output_type": "execute_result"
    }
   ],
   "source": [
    "val df_chi = df_cross.withColumn(\"total_Photo\",sum('Photo).over()).\n",
    "    withColumn(\"total_Post\",sum('Post).over()).\n",
    "    withColumn(\"total_Video\",sum('Video).over()).\n",
    "    withColumn(\"sum_row\", $\"Photo\" + $\"Post\" + $\"Video\").\n",
    "    drop(\"instanceId_userId_instanceId_objectType\").\n",
    "    withColumn(\"total\",sum('sum_row).over()).\n",
    "    withColumn(\"Photo_un\", $\"total_Photo\" * $\"sum_row\" / $\"total\").\n",
    "    withColumn(\"Post_un\", $\"total_Post\" * $\"sum_row\" / $\"total\").\n",
    "    withColumn(\"Video_un\", $\"total_Video\" * $\"sum_row\" / $\"total\").\n",
    "    withColumn(\"chi_Photo\", ($\"Photo\" - $\"Photo_un\")*($\"Photo\" - $\"Photo_un\") / $\"Photo_un\").\n",
    "    withColumn(\"chi_Post\", ($\"Post\" - $\"Post_un\")*($\"Post\" - $\"Post_un\") / $\"Post_un\").\n",
    "    withColumn(\"chi_Video\", ($\"Video\" - $\"Video_un\")*($\"Video\" - $\"Video_un\") / $\"Video_un\")"
   ]
  },
  {
   "cell_type": "code",
   "execution_count": 28,
   "metadata": {},
   "outputs": [
    {
     "data": {
      "text/html": [
       "<div>\n",
       "  <span style=\"float: left;\">show at cmd27.sc:1</span>\n",
       "</div>\n"
      ]
     },
     "metadata": {},
     "output_type": "display_data"
    },
    {
     "data": {
      "text/html": [
       "<div class=\"progress\">\n",
       "  <div class=\"progress-bar\" role=\"progressbar\" style=\"background-color: blue; width: 100%; word-wrap: normal; white-space: nowrap; text-align: center; color: white\" aria-valuenow=\"100\" aria-valuemin=\"0\" aria-valuemax=\"100\">\n",
       "    100 / 100\n",
       "  </div>\n",
       "  <div class=\"progress-bar\" role=\"progressbar\" style=\"background-color: red; width: 0%\" aria-valuenow=\"0\" aria-valuemin=\"0\" aria-valuemax=\"100\"></div>\n",
       "</div>\n"
      ]
     },
     "metadata": {},
     "output_type": "display_data"
    },
    {
     "data": {
      "text/html": [
       "<div>\n",
       "  <span style=\"float: left;\">show at cmd27.sc:1</span>\n",
       "</div>\n"
      ]
     },
     "metadata": {},
     "output_type": "display_data"
    },
    {
     "data": {
      "text/html": [
       "<div class=\"progress\">\n",
       "  <div class=\"progress-bar\" role=\"progressbar\" style=\"background-color: blue; width: 100%; word-wrap: normal; white-space: nowrap; text-align: center; color: white\" aria-valuenow=\"100\" aria-valuemin=\"0\" aria-valuemax=\"100\">\n",
       "    1 / 1\n",
       "  </div>\n",
       "  <div class=\"progress-bar\" role=\"progressbar\" style=\"background-color: red; width: 0%\" aria-valuenow=\"0\" aria-valuemin=\"0\" aria-valuemax=\"100\"></div>\n",
       "</div>\n"
      ]
     },
     "metadata": {},
     "output_type": "display_data"
    },
    {
     "name": "stdout",
     "output_type": "stream",
     "text": [
      "+---------------------------------------------------+----------------+\n",
      "|((sum(chi_Photo) + sum(chi_Post)) + sum(chi_Video))|count(chi_Photo)|\n",
      "+---------------------------------------------------+----------------+\n",
      "|                                  9533.252577343997|             100|\n",
      "+---------------------------------------------------+----------------+\n",
      "\n"
     ]
    }
   ],
   "source": [
    "df_chi.select(sum('chi_Photo) + sum('chi_Post) + sum('chi_Video), count('chi_Photo)).\n",
    "show()"
   ]
  },
  {
   "cell_type": "markdown",
   "metadata": {},
   "source": [
    "Получаем, что для количества степеней свободы (100 - 1) * (3 - 1) = 198 значение статистики $\\chi ^2$ равно 9533. С учетом того, что критическое значение статистики при таком количестве степеней свободы для p = 0.05 [равно 1.653](https://www.socscistatistics.com/tests/criticalvalues/default.aspx), получаем, что согласно $\\chi ^2$-тесту, рассматриваемый признак и целевая переменная действительно коррелируют. Столь экстремально большое значение статистики объясняет нулевое значение p-value в вышерассмотренном расчете."
   ]
  },
  {
   "cell_type": "markdown",
   "metadata": {},
   "source": [
    "Рассмотрим теперь распределение активностей пользователей по возрасту, полу и стране. Определим, какие значения принимает переменная, отвечающая за пол пользователя."
   ]
  },
  {
   "cell_type": "code",
   "execution_count": 29,
   "metadata": {},
   "outputs": [
    {
     "data": {
      "text/html": [
       "<div>\n",
       "  <span style=\"float: left;\">show at cmd28.sc:1</span>\n",
       "</div>\n"
      ]
     },
     "metadata": {},
     "output_type": "display_data"
    },
    {
     "data": {
      "text/html": [
       "<div class=\"progress\">\n",
       "  <div class=\"progress-bar\" role=\"progressbar\" style=\"background-color: blue; width: 100%; word-wrap: normal; white-space: nowrap; text-align: center; color: white\" aria-valuenow=\"100\" aria-valuemin=\"0\" aria-valuemax=\"100\">\n",
       "    332 / 332\n",
       "  </div>\n",
       "  <div class=\"progress-bar\" role=\"progressbar\" style=\"background-color: red; width: 0%\" aria-valuenow=\"0\" aria-valuemin=\"0\" aria-valuemax=\"100\"></div>\n",
       "</div>\n"
      ]
     },
     "metadata": {},
     "output_type": "display_data"
    },
    {
     "data": {
      "text/html": [
       "<div>\n",
       "  <span style=\"float: left;\">show at cmd28.sc:1</span>\n",
       "</div>\n"
      ]
     },
     "metadata": {},
     "output_type": "display_data"
    },
    {
     "data": {
      "text/html": [
       "<div class=\"progress\">\n",
       "  <div class=\"progress-bar\" role=\"progressbar\" style=\"background-color: blue; width: 100%; word-wrap: normal; white-space: nowrap; text-align: center; color: white\" aria-valuenow=\"100\" aria-valuemin=\"0\" aria-valuemax=\"100\">\n",
       "    1 / 1\n",
       "  </div>\n",
       "  <div class=\"progress-bar\" role=\"progressbar\" style=\"background-color: red; width: 0%\" aria-valuenow=\"0\" aria-valuemin=\"0\" aria-valuemax=\"100\"></div>\n",
       "</div>\n"
      ]
     },
     "metadata": {},
     "output_type": "display_data"
    },
    {
     "data": {
      "text/html": [
       "<div>\n",
       "  <span style=\"float: left;\">show at cmd28.sc:1</span>\n",
       "</div>\n"
      ]
     },
     "metadata": {},
     "output_type": "display_data"
    },
    {
     "data": {
      "text/html": [
       "<div class=\"progress\">\n",
       "  <div class=\"progress-bar\" role=\"progressbar\" style=\"background-color: blue; width: 100%; word-wrap: normal; white-space: nowrap; text-align: center; color: white\" aria-valuenow=\"100\" aria-valuemin=\"0\" aria-valuemax=\"100\">\n",
       "    4 / 4\n",
       "  </div>\n",
       "  <div class=\"progress-bar\" role=\"progressbar\" style=\"background-color: red; width: 0%\" aria-valuenow=\"0\" aria-valuemin=\"0\" aria-valuemax=\"100\"></div>\n",
       "</div>\n"
      ]
     },
     "metadata": {},
     "output_type": "display_data"
    },
    {
     "data": {
      "text/html": [
       "<div>\n",
       "  <span style=\"float: left;\">show at cmd28.sc:1</span>\n",
       "</div>\n"
      ]
     },
     "metadata": {},
     "output_type": "display_data"
    },
    {
     "data": {
      "text/html": [
       "<div class=\"progress\">\n",
       "  <div class=\"progress-bar\" role=\"progressbar\" style=\"background-color: blue; width: 100%; word-wrap: normal; white-space: nowrap; text-align: center; color: white\" aria-valuenow=\"100\" aria-valuemin=\"0\" aria-valuemax=\"100\">\n",
       "    20 / 20\n",
       "  </div>\n",
       "  <div class=\"progress-bar\" role=\"progressbar\" style=\"background-color: red; width: 0%\" aria-valuenow=\"0\" aria-valuemin=\"0\" aria-valuemax=\"100\"></div>\n",
       "</div>\n"
      ]
     },
     "metadata": {},
     "output_type": "display_data"
    },
    {
     "data": {
      "text/html": [
       "<div>\n",
       "  <span style=\"float: left;\">show at cmd28.sc:1</span>\n",
       "</div>\n"
      ]
     },
     "metadata": {},
     "output_type": "display_data"
    },
    {
     "data": {
      "text/html": [
       "<div class=\"progress\">\n",
       "  <div class=\"progress-bar\" role=\"progressbar\" style=\"background-color: blue; width: 100%; word-wrap: normal; white-space: nowrap; text-align: center; color: white\" aria-valuenow=\"100\" aria-valuemin=\"0\" aria-valuemax=\"100\">\n",
       "    100 / 100\n",
       "  </div>\n",
       "  <div class=\"progress-bar\" role=\"progressbar\" style=\"background-color: red; width: 0%\" aria-valuenow=\"0\" aria-valuemin=\"0\" aria-valuemax=\"100\"></div>\n",
       "</div>\n"
      ]
     },
     "metadata": {},
     "output_type": "display_data"
    },
    {
     "data": {
      "text/html": [
       "<div>\n",
       "  <span style=\"float: left;\">show at cmd28.sc:1</span>\n",
       "</div>\n"
      ]
     },
     "metadata": {},
     "output_type": "display_data"
    },
    {
     "data": {
      "text/html": [
       "<div class=\"progress\">\n",
       "  <div class=\"progress-bar\" role=\"progressbar\" style=\"background-color: blue; width: 100%; word-wrap: normal; white-space: nowrap; text-align: center; color: white\" aria-valuenow=\"100\" aria-valuemin=\"0\" aria-valuemax=\"100\">\n",
       "    75 / 75\n",
       "  </div>\n",
       "  <div class=\"progress-bar\" role=\"progressbar\" style=\"background-color: red; width: 0%\" aria-valuenow=\"0\" aria-valuemin=\"0\" aria-valuemax=\"100\"></div>\n",
       "</div>\n"
      ]
     },
     "metadata": {},
     "output_type": "display_data"
    },
    {
     "name": "stdout",
     "output_type": "stream",
     "text": [
      "+-----------+--------+\n",
      "|user_gender|   count|\n",
      "+-----------+--------+\n",
      "|       null|    1376|\n",
      "|          1| 5033698|\n",
      "|          2|13251484|\n",
      "|          0|      17|\n",
      "+-----------+--------+\n",
      "\n"
     ]
    }
   ],
   "source": [
    "data.select(\"auditweights_userAge\", \"user_gender\").groupBy(\"user_gender\").count().show()"
   ]
  },
  {
   "cell_type": "markdown",
   "metadata": {},
   "source": [
    "Ну, 3 значения пола... Европейские ценности и все такое...\n",
    "\n",
    "В дальнейшем исследовании будем учитывать только Gender1 и Gender2, как самые многочисленные.\n",
    "\n",
    "Посмотрим на статистику возраста пользователей обоих полов."
   ]
  },
  {
   "cell_type": "code",
   "execution_count": 30,
   "metadata": {},
   "outputs": [
    {
     "data": {
      "text/html": [
       "<div>\n",
       "  <span style=\"float: left;\">approxQuantile at cmd29.sc:2</span>\n",
       "</div>\n"
      ]
     },
     "metadata": {},
     "output_type": "display_data"
    },
    {
     "data": {
      "text/html": [
       "<div class=\"progress\">\n",
       "  <div class=\"progress-bar\" role=\"progressbar\" style=\"background-color: blue; width: 100%; word-wrap: normal; white-space: nowrap; text-align: center; color: white\" aria-valuenow=\"100\" aria-valuemin=\"0\" aria-valuemax=\"100\">\n",
       "    332 / 332\n",
       "  </div>\n",
       "  <div class=\"progress-bar\" role=\"progressbar\" style=\"background-color: red; width: 0%\" aria-valuenow=\"0\" aria-valuemin=\"0\" aria-valuemax=\"100\"></div>\n",
       "</div>\n"
      ]
     },
     "metadata": {},
     "output_type": "display_data"
    },
    {
     "data": {
      "text/html": [
       "<div>\n",
       "  <span style=\"float: left;\">approxQuantile at cmd29.sc:2</span>\n",
       "</div>\n"
      ]
     },
     "metadata": {},
     "output_type": "display_data"
    },
    {
     "data": {
      "text/html": [
       "<div class=\"progress\">\n",
       "  <div class=\"progress-bar\" role=\"progressbar\" style=\"background-color: blue; width: 100%; word-wrap: normal; white-space: nowrap; text-align: center; color: white\" aria-valuenow=\"100\" aria-valuemin=\"0\" aria-valuemax=\"100\">\n",
       "    17 / 17\n",
       "  </div>\n",
       "  <div class=\"progress-bar\" role=\"progressbar\" style=\"background-color: red; width: 0%\" aria-valuenow=\"0\" aria-valuemin=\"0\" aria-valuemax=\"100\"></div>\n",
       "</div>\n"
      ]
     },
     "metadata": {},
     "output_type": "display_data"
    },
    {
     "data": {
      "text/plain": [
       "\u001b[36mres29\u001b[39m: \u001b[32mArray\u001b[39m[\u001b[32mDouble\u001b[39m] = \u001b[33mArray\u001b[39m(\u001b[32m35.0\u001b[39m, \u001b[32m44.0\u001b[39m, \u001b[32m56.0\u001b[39m)"
      ]
     },
     "execution_count": 30,
     "metadata": {},
     "output_type": "execute_result"
    }
   ],
   "source": [
    "data.select(\"auditweights_userAge\", \"user_gender\").filter($\"user_gender\" === 1).\n",
    "    stat.approxQuantile(\"auditweights_userAge\", Array(0.25, 0.5, 0.75), 0.01)"
   ]
  },
  {
   "cell_type": "code",
   "execution_count": 31,
   "metadata": {},
   "outputs": [
    {
     "data": {
      "text/html": [
       "<div>\n",
       "  <span style=\"float: left;\">approxQuantile at cmd30.sc:2</span>\n",
       "</div>\n"
      ]
     },
     "metadata": {},
     "output_type": "display_data"
    },
    {
     "data": {
      "text/html": [
       "<div class=\"progress\">\n",
       "  <div class=\"progress-bar\" role=\"progressbar\" style=\"background-color: blue; width: 100%; word-wrap: normal; white-space: nowrap; text-align: center; color: white\" aria-valuenow=\"100\" aria-valuemin=\"0\" aria-valuemax=\"100\">\n",
       "    332 / 332\n",
       "  </div>\n",
       "  <div class=\"progress-bar\" role=\"progressbar\" style=\"background-color: red; width: 0%\" aria-valuenow=\"0\" aria-valuemin=\"0\" aria-valuemax=\"100\"></div>\n",
       "</div>\n"
      ]
     },
     "metadata": {},
     "output_type": "display_data"
    },
    {
     "data": {
      "text/html": [
       "<div>\n",
       "  <span style=\"float: left;\">approxQuantile at cmd30.sc:2</span>\n",
       "</div>\n"
      ]
     },
     "metadata": {},
     "output_type": "display_data"
    },
    {
     "data": {
      "text/html": [
       "<div class=\"progress\">\n",
       "  <div class=\"progress-bar\" role=\"progressbar\" style=\"background-color: blue; width: 100%; word-wrap: normal; white-space: nowrap; text-align: center; color: white\" aria-valuenow=\"100\" aria-valuemin=\"0\" aria-valuemax=\"100\">\n",
       "    17 / 17\n",
       "  </div>\n",
       "  <div class=\"progress-bar\" role=\"progressbar\" style=\"background-color: red; width: 0%\" aria-valuenow=\"0\" aria-valuemin=\"0\" aria-valuemax=\"100\"></div>\n",
       "</div>\n"
      ]
     },
     "metadata": {},
     "output_type": "display_data"
    },
    {
     "data": {
      "text/plain": [
       "\u001b[36mres30\u001b[39m: \u001b[32mArray\u001b[39m[\u001b[32mDouble\u001b[39m] = \u001b[33mArray\u001b[39m(\u001b[32m37.0\u001b[39m, \u001b[32m47.0\u001b[39m, \u001b[32m58.0\u001b[39m)"
      ]
     },
     "execution_count": 31,
     "metadata": {},
     "output_type": "execute_result"
    }
   ],
   "source": [
    "data.select(\"auditweights_userAge\", \"user_gender\").filter($\"user_gender\" === 2).\n",
    "    stat.approxQuantile(\"auditweights_userAge\", Array(0.25, 0.5, 0.75), 0.01)"
   ]
  },
  {
   "cell_type": "markdown",
   "metadata": {},
   "source": [
    "Можно заметить, что Gender2 представлен чуть более возрастными представителями. Построим теперь гистограмму авктивности пользователей обоих полов по странам."
   ]
  },
  {
   "cell_type": "code",
   "execution_count": 32,
   "metadata": {},
   "outputs": [
    {
     "data": {
      "text/html": [
       "<div>\n",
       "  <span style=\"float: left;\">show at cmd31.sc:3</span>\n",
       "</div>\n"
      ]
     },
     "metadata": {},
     "output_type": "display_data"
    },
    {
     "data": {
      "text/html": [
       "<div class=\"progress\">\n",
       "  <div class=\"progress-bar\" role=\"progressbar\" style=\"background-color: blue; width: 100%; word-wrap: normal; white-space: nowrap; text-align: center; color: white\" aria-valuenow=\"100\" aria-valuemin=\"0\" aria-valuemax=\"100\">\n",
       "    332 / 332\n",
       "  </div>\n",
       "  <div class=\"progress-bar\" role=\"progressbar\" style=\"background-color: red; width: 0%\" aria-valuenow=\"0\" aria-valuemin=\"0\" aria-valuemax=\"100\"></div>\n",
       "</div>\n"
      ]
     },
     "metadata": {},
     "output_type": "display_data"
    },
    {
     "data": {
      "text/html": [
       "<div>\n",
       "  <span style=\"float: left;\">show at cmd31.sc:3</span>\n",
       "</div>\n"
      ]
     },
     "metadata": {},
     "output_type": "display_data"
    },
    {
     "data": {
      "text/html": [
       "<div class=\"progress\">\n",
       "  <div class=\"progress-bar\" role=\"progressbar\" style=\"background-color: blue; width: 100%; word-wrap: normal; white-space: nowrap; text-align: center; color: white\" aria-valuenow=\"100\" aria-valuemin=\"0\" aria-valuemax=\"100\">\n",
       "    200 / 200\n",
       "  </div>\n",
       "  <div class=\"progress-bar\" role=\"progressbar\" style=\"background-color: red; width: 0%\" aria-valuenow=\"0\" aria-valuemin=\"0\" aria-valuemax=\"100\"></div>\n",
       "</div>\n"
      ]
     },
     "metadata": {},
     "output_type": "display_data"
    },
    {
     "name": "stdout",
     "output_type": "stream",
     "text": [
      "+---------------+-----------+-----+\n",
      "|user_ID_country|user_gender|count|\n",
      "+---------------+-----------+-----+\n",
      "|    10392716690|          1|  281|\n",
      "|    10392716690|          2| 2196|\n",
      "|    10392808561|          1|   44|\n",
      "|    10392808561|          2|  129|\n",
      "|    10392890835|          1|  212|\n",
      "|    10392890835|          2|  381|\n",
      "|    10392982119|          1|   61|\n",
      "|    10392982119|          2|  541|\n",
      "|    10393232409|          1|  906|\n",
      "|    10393232409|          2| 1700|\n",
      "|    10393424473|          1|  214|\n",
      "|    10393424473|          2|  259|\n",
      "|    10393450888|          1|   37|\n",
      "|    10393450888|          2|   46|\n",
      "|    10393621238|          1| 2151|\n",
      "|    10393621238|          2| 5627|\n",
      "|    10393631600|          1| 1062|\n",
      "|    10393631600|          2| 2779|\n",
      "|    10394079228|          1|   18|\n",
      "|    10394079228|          2|  180|\n",
      "+---------------+-----------+-----+\n",
      "only showing top 20 rows\n",
      "\n"
     ]
    }
   ],
   "source": [
    "data.select(\"user_ID_country\", \"user_gender\").filter($\"user_gender\".isNotNull).\n",
    "   groupBy(\"user_ID_country\", \"user_gender\").count().\n",
    "   sort($\"user_ID_country\".asc, $\"user_gender\".asc).show()"
   ]
  },
  {
   "cell_type": "code",
   "execution_count": 33,
   "metadata": {},
   "outputs": [
    {
     "data": {
      "text/html": [
       "<div>\n",
       "  <span style=\"float: left;\">take at cmd32.sc:7</span>\n",
       "</div>\n"
      ]
     },
     "metadata": {},
     "output_type": "display_data"
    },
    {
     "data": {
      "text/html": [
       "<div class=\"progress\">\n",
       "  <div class=\"progress-bar\" role=\"progressbar\" style=\"background-color: blue; width: 100%; word-wrap: normal; white-space: nowrap; text-align: center; color: white\" aria-valuenow=\"100\" aria-valuemin=\"0\" aria-valuemax=\"100\">\n",
       "    332 / 332\n",
       "  </div>\n",
       "  <div class=\"progress-bar\" role=\"progressbar\" style=\"background-color: red; width: 0%\" aria-valuenow=\"0\" aria-valuemin=\"0\" aria-valuemax=\"100\"></div>\n",
       "</div>\n"
      ]
     },
     "metadata": {},
     "output_type": "display_data"
    },
    {
     "data": {
      "text/html": [
       "<div>\n",
       "  <span style=\"float: left;\">take at cmd32.sc:7</span>\n",
       "</div>\n"
      ]
     },
     "metadata": {},
     "output_type": "display_data"
    },
    {
     "data": {
      "text/html": [
       "<div class=\"progress\">\n",
       "  <div class=\"progress-bar\" role=\"progressbar\" style=\"background-color: blue; width: 100%; word-wrap: normal; white-space: nowrap; text-align: center; color: white\" aria-valuenow=\"100\" aria-valuemin=\"0\" aria-valuemax=\"100\">\n",
       "    200 / 200\n",
       "  </div>\n",
       "  <div class=\"progress-bar\" role=\"progressbar\" style=\"background-color: red; width: 0%\" aria-valuenow=\"0\" aria-valuemin=\"0\" aria-valuemax=\"100\"></div>\n",
       "</div>\n"
      ]
     },
     "metadata": {},
     "output_type": "display_data"
    },
    {
     "data": {
      "text/html": [
       "<div>\n",
       "  <span style=\"float: left;\">take at cmd32.sc:7</span>\n",
       "</div>\n"
      ]
     },
     "metadata": {},
     "output_type": "display_data"
    },
    {
     "data": {
      "text/html": [
       "<div class=\"progress\">\n",
       "  <div class=\"progress-bar\" role=\"progressbar\" style=\"background-color: blue; width: 100%; word-wrap: normal; white-space: nowrap; text-align: center; color: white\" aria-valuenow=\"100\" aria-valuemin=\"0\" aria-valuemax=\"100\">\n",
       "    200 / 200\n",
       "  </div>\n",
       "  <div class=\"progress-bar\" role=\"progressbar\" style=\"background-color: red; width: 0%\" aria-valuenow=\"0\" aria-valuemin=\"0\" aria-valuemax=\"100\"></div>\n",
       "</div>\n"
      ]
     },
     "metadata": {},
     "output_type": "display_data"
    },
    {
     "data": {
      "text/html": [
       "<div>\n",
       "  <span style=\"float: left;\">take at cmd32.sc:7</span>\n",
       "</div>\n"
      ]
     },
     "metadata": {},
     "output_type": "display_data"
    },
    {
     "data": {
      "text/html": [
       "<div class=\"progress\">\n",
       "  <div class=\"progress-bar\" role=\"progressbar\" style=\"background-color: blue; width: 100%; word-wrap: normal; white-space: nowrap; text-align: center; color: white\" aria-valuenow=\"100\" aria-valuemin=\"0\" aria-valuemax=\"100\">\n",
       "    200 / 200\n",
       "  </div>\n",
       "  <div class=\"progress-bar\" role=\"progressbar\" style=\"background-color: red; width: 0%\" aria-valuenow=\"0\" aria-valuemin=\"0\" aria-valuemax=\"100\"></div>\n",
       "</div>\n"
      ]
     },
     "metadata": {},
     "output_type": "display_data"
    },
    {
     "data": {
      "text/html": [
       "<div>\n",
       "  <span style=\"float: left;\">take at cmd32.sc:7</span>\n",
       "</div>\n"
      ]
     },
     "metadata": {},
     "output_type": "display_data"
    },
    {
     "data": {
      "text/html": [
       "<div class=\"progress\">\n",
       "  <div class=\"progress-bar\" role=\"progressbar\" style=\"background-color: blue; width: 100%; word-wrap: normal; white-space: nowrap; text-align: center; color: white\" aria-valuenow=\"100\" aria-valuemin=\"0\" aria-valuemax=\"100\">\n",
       "    1 / 1\n",
       "  </div>\n",
       "  <div class=\"progress-bar\" role=\"progressbar\" style=\"background-color: red; width: 0%\" aria-valuenow=\"0\" aria-valuemin=\"0\" aria-valuemax=\"100\"></div>\n",
       "</div>\n"
      ]
     },
     "metadata": {},
     "output_type": "display_data"
    },
    {
     "data": {
      "text/html": [
       "<div>\n",
       "  <span style=\"float: left;\">take at cmd32.sc:7</span>\n",
       "</div>\n"
      ]
     },
     "metadata": {},
     "output_type": "display_data"
    },
    {
     "data": {
      "text/html": [
       "<div class=\"progress\">\n",
       "  <div class=\"progress-bar\" role=\"progressbar\" style=\"background-color: blue; width: 100%; word-wrap: normal; white-space: nowrap; text-align: center; color: white\" aria-valuenow=\"100\" aria-valuemin=\"0\" aria-valuemax=\"100\">\n",
       "    4 / 4\n",
       "  </div>\n",
       "  <div class=\"progress-bar\" role=\"progressbar\" style=\"background-color: red; width: 0%\" aria-valuenow=\"0\" aria-valuemin=\"0\" aria-valuemax=\"100\"></div>\n",
       "</div>\n"
      ]
     },
     "metadata": {},
     "output_type": "display_data"
    },
    {
     "data": {
      "text/html": [
       "<div>\n",
       "  <span style=\"float: left;\">take at cmd32.sc:7</span>\n",
       "</div>\n"
      ]
     },
     "metadata": {},
     "output_type": "display_data"
    },
    {
     "data": {
      "text/html": [
       "<div class=\"progress\">\n",
       "  <div class=\"progress-bar\" role=\"progressbar\" style=\"background-color: blue; width: 100%; word-wrap: normal; white-space: nowrap; text-align: center; color: white\" aria-valuenow=\"100\" aria-valuemin=\"0\" aria-valuemax=\"100\">\n",
       "    20 / 20\n",
       "  </div>\n",
       "  <div class=\"progress-bar\" role=\"progressbar\" style=\"background-color: red; width: 0%\" aria-valuenow=\"0\" aria-valuemin=\"0\" aria-valuemax=\"100\"></div>\n",
       "</div>\n"
      ]
     },
     "metadata": {},
     "output_type": "display_data"
    },
    {
     "data": {
      "text/html": [
       "<div>\n",
       "  <span style=\"float: left;\">take at cmd32.sc:7</span>\n",
       "</div>\n"
      ]
     },
     "metadata": {},
     "output_type": "display_data"
    },
    {
     "data": {
      "text/html": [
       "<div class=\"progress\">\n",
       "  <div class=\"progress-bar\" role=\"progressbar\" style=\"background-color: blue; width: 100%; word-wrap: normal; white-space: nowrap; text-align: center; color: white\" aria-valuenow=\"100\" aria-valuemin=\"0\" aria-valuemax=\"100\">\n",
       "    15 / 15\n",
       "  </div>\n",
       "  <div class=\"progress-bar\" role=\"progressbar\" style=\"background-color: red; width: 0%\" aria-valuenow=\"0\" aria-valuemin=\"0\" aria-valuemax=\"100\"></div>\n",
       "</div>\n"
      ]
     },
     "metadata": {},
     "output_type": "display_data"
    },
    {
     "data": {
      "text/plain": [
       "\u001b[36mgenders_with_countries\u001b[39m: \u001b[32mArray\u001b[39m[\u001b[32mRow\u001b[39m] = \u001b[33mArray\u001b[39m(\n",
       "  [10417127108,WrappedArray(1, 2),WrappedArray(245, 80)],\n",
       "  [10424065948,WrappedArray(1, 2),WrappedArray(113, 208)],\n",
       "  [10393621238,WrappedArray(1, 2),WrappedArray(2151, 5627)],\n",
       "  [10399224101,WrappedArray(1, 2),WrappedArray(11, 19)],\n",
       "  [10425274320,WrappedArray(1, 2),WrappedArray(78, 233)],\n",
       "  [10401935333,WrappedArray(1, 2),WrappedArray(726, 697)],\n",
       "  [10408209383,WrappedArray(1, 2),WrappedArray(142, 104)],\n",
       "  [10395467357,WrappedArray(1, 2),WrappedArray(40, 146)],\n",
       "  [26334910464,WrappedArray(1, 2),WrappedArray(2927, 7080)],\n",
       "  [10418754394,WrappedArray(1, 2),WrappedArray(42, 82)],\n",
       "  [10405794288,WrappedArray(1, 2),WrappedArray(130, 116)],\n",
       "  [10394079228,WrappedArray(1, 2),WrappedArray(18, 180)],\n",
       "  [10394605145,WrappedArray(1, 2),WrappedArray(120, 74)],\n",
       "  [10423428619,WrappedArray(1, 2),WrappedArray(53, 63)],\n",
       "  [10425905274,WrappedArray(1, 2),WrappedArray(105, 114)],\n",
       "  [10410580805,WrappedArray(1, 2),WrappedArray(1482, 1122)],\n",
       "  [10414930207,WrappedArray(1, 2),WrappedArray(112, 122)],\n",
       "  [10402425385,WrappedArray(1, 2),WrappedArray(210, 155)],\n",
       "  [10405620585,WrappedArray(1, 2),WrappedArray(1017, 3034)],\n",
       "  [10399865285,WrappedArray(1, 2),WrappedArray(8, 6)],\n",
       "  [10397453891,WrappedArray(1, 2),WrappedArray(66, 154)],\n",
       "  [10404374905,WrappedArray(1, 2),WrappedArray(58, 141)],\n",
       "  [10404540364,WrappedArray(1, 2),WrappedArray(45, 62)],\n",
       "  [10408281200,WrappedArray(1, 2),WrappedArray(432, 353)],\n",
       "  [10418580649,WrappedArray(1, 2),WrappedArray(88, 402)],\n",
       "  [10424568667,WrappedArray(1, 2),WrappedArray(124, 86)],\n",
       "  [10399201022,WrappedArray(1, 2),WrappedArray(93, 197)],\n",
       "  [10403255122,WrappedArray(1, 2),WrappedArray(54, 41)],\n",
       "  [10403797723,WrappedArray(1, 2),WrappedArray(355, 732)],\n",
       "  [10403555674,WrappedArray(1, 2),WrappedArray(40, 42)],\n",
       "  [10419209718,WrappedArray(1, 2),WrappedArray(57, 223)],\n",
       "  [10425587057,WrappedArray(1, 2),WrappedArray(348, 720)],\n",
       "  [10419484235,WrappedArray(1, 2),WrappedArray(42, 39)],\n",
       "  [10423933302,WrappedArray(1, 2),WrappedArray(132, 290)],\n",
       "  [10393631600,WrappedArray(1, 2),WrappedArray(1062, 2779)],\n",
       "  [10407624473,WrappedArray(1, 2),WrappedArray(211, 140)],\n",
       "  [10413994177,WrappedArray(1, 2),WrappedArray(73, 164)],\n",
       "  [10408272261,WrappedArray(1, 2),WrappedArray(1250, 2638)],\n",
       "..."
      ]
     },
     "execution_count": 33,
     "metadata": {},
     "output_type": "execute_result"
    }
   ],
   "source": [
    "val genders_with_countries = data.select(\"user_ID_country\", \"user_gender\").\n",
    "    filter($\"user_gender\".isNotNull).\n",
    "    groupBy(\"user_ID_country\", \"user_gender\").count().\n",
    "    sort($\"user_ID_country\".asc, $\"user_gender\".asc).\n",
    "    groupBy(\"user_ID_country\").\n",
    "    agg(collect_list($\"user_gender\").alias(\"genders\"), collect_list($\"count\").alias(\"counts\")).\n",
    "    take(40)"
   ]
  },
  {
   "cell_type": "markdown",
   "metadata": {},
   "source": [
    "Визуализируем полученные данные."
   ]
  },
  {
   "cell_type": "code",
   "execution_count": 34,
   "metadata": {},
   "outputs": [
    {
     "data": {
      "application/vnd.plotly.v1+json": {
       "config": {},
       "data": [
        {
         "name": "Gender 1",
         "type": "bar",
         "x": [
          "C-10417127108",
          "C-10424065948",
          "C-10393621238",
          "C-10399224101",
          "C-10425274320",
          "C-10401935333",
          "C-10408209383",
          "C-10395467357",
          "C-26334910464",
          "C-10418754394",
          "C-10405794288",
          "C-10394079228",
          "C-10394605145",
          "C-10423428619",
          "C-10425905274",
          "C-10410580805",
          "C-10414930207",
          "C-10402425385",
          "C-10405620585",
          "C-10399865285",
          "C-10397453891",
          "C-10404374905",
          "C-10404540364",
          "C-10408281200",
          "C-10418580649",
          "C-10424568667",
          "C-10399201022",
          "C-10403255122",
          "C-10403797723",
          "C-10403555674",
          "C-10419209718",
          "C-10425587057",
          "C-10419484235",
          "C-10423933302",
          "C-10393631600",
          "C-10407624473",
          "C-10413994177",
          "C-10408272261",
          "C-10410627224",
          "C-10395074682"
         ],
         "y": [
          245,
          113,
          2151,
          11,
          78,
          726,
          142,
          40,
          2927,
          42,
          130,
          18,
          120,
          53,
          105,
          1482,
          112,
          210,
          1017,
          8,
          66,
          58,
          45,
          432,
          88,
          124,
          93,
          54,
          355,
          40,
          57,
          348,
          42,
          132,
          1062,
          211,
          73,
          1250,
          131,
          273
         ]
        },
        {
         "name": "Gender 2",
         "type": "bar",
         "x": [
          "C-10417127108",
          "C-10424065948",
          "C-10393621238",
          "C-10399224101",
          "C-10425274320",
          "C-10401935333",
          "C-10408209383",
          "C-10395467357",
          "C-26334910464",
          "C-10418754394",
          "C-10405794288",
          "C-10394079228",
          "C-10394605145",
          "C-10423428619",
          "C-10425905274",
          "C-10410580805",
          "C-10414930207",
          "C-10402425385",
          "C-10405620585",
          "C-10399865285",
          "C-10397453891",
          "C-10404374905",
          "C-10404540364",
          "C-10408281200",
          "C-10418580649",
          "C-10424568667",
          "C-10399201022",
          "C-10403255122",
          "C-10403797723",
          "C-10403555674",
          "C-10419209718",
          "C-10425587057",
          "C-10419484235",
          "C-10423933302",
          "C-10393631600",
          "C-10407624473",
          "C-10413994177",
          "C-10408272261",
          "C-10410627224",
          "C-10395074682"
         ],
         "y": [
          80,
          208,
          5627,
          19,
          233,
          697,
          104,
          146,
          7080,
          82,
          116,
          180,
          74,
          63,
          114,
          1122,
          122,
          155,
          3034,
          6,
          154,
          141,
          62,
          353,
          402,
          86,
          197,
          41,
          732,
          42,
          223,
          720,
          39,
          290,
          2779,
          140,
          164,
          2638,
          62,
          244
         ]
        }
       ],
       "layout": {
        "barmode": "group"
       }
      },
      "text/html": [
       "<div class=\"chart\" id=\"plot-62315198-33bf-4b86-8063-5457041c942f\"></div>\n",
       "<script>require(['plotly'], function(Plotly) {\n",
       "  (function () {\n",
       "  var data0 = {\"x\":[\"C-10417127108\",\"C-10424065948\",\"C-10393621238\",\"C-10399224101\",\"C-10425274320\",\"C-10401935333\",\"C-10408209383\",\"C-10395467357\",\"C-26334910464\",\"C-10418754394\",\"C-10405794288\",\"C-10394079228\",\"C-10394605145\",\"C-10423428619\",\"C-10425905274\",\"C-10410580805\",\"C-10414930207\",\"C-10402425385\",\"C-10405620585\",\"C-10399865285\",\"C-10397453891\",\"C-10404374905\",\"C-10404540364\",\"C-10408281200\",\"C-10418580649\",\"C-10424568667\",\"C-10399201022\",\"C-10403255122\",\"C-10403797723\",\"C-10403555674\",\"C-10419209718\",\"C-10425587057\",\"C-10419484235\",\"C-10423933302\",\"C-10393631600\",\"C-10407624473\",\"C-10413994177\",\"C-10408272261\",\"C-10410627224\",\"C-10395074682\"],\"name\":\"Gender 1\",\"y\":[245.0,113.0,2151.0,11.0,78.0,726.0,142.0,40.0,2927.0,42.0,130.0,18.0,120.0,53.0,105.0,1482.0,112.0,210.0,1017.0,8.0,66.0,58.0,45.0,432.0,88.0,124.0,93.0,54.0,355.0,40.0,57.0,348.0,42.0,132.0,1062.0,211.0,73.0,1250.0,131.0,273.0],\"type\":\"bar\"};\n",
       "  var data1 = {\"x\":[\"C-10417127108\",\"C-10424065948\",\"C-10393621238\",\"C-10399224101\",\"C-10425274320\",\"C-10401935333\",\"C-10408209383\",\"C-10395467357\",\"C-26334910464\",\"C-10418754394\",\"C-10405794288\",\"C-10394079228\",\"C-10394605145\",\"C-10423428619\",\"C-10425905274\",\"C-10410580805\",\"C-10414930207\",\"C-10402425385\",\"C-10405620585\",\"C-10399865285\",\"C-10397453891\",\"C-10404374905\",\"C-10404540364\",\"C-10408281200\",\"C-10418580649\",\"C-10424568667\",\"C-10399201022\",\"C-10403255122\",\"C-10403797723\",\"C-10403555674\",\"C-10419209718\",\"C-10425587057\",\"C-10419484235\",\"C-10423933302\",\"C-10393631600\",\"C-10407624473\",\"C-10413994177\",\"C-10408272261\",\"C-10410627224\",\"C-10395074682\"],\"name\":\"Gender 2\",\"y\":[80.0,208.0,5627.0,19.0,233.0,697.0,104.0,146.0,7080.0,82.0,116.0,180.0,74.0,63.0,114.0,1122.0,122.0,155.0,3034.0,6.0,154.0,141.0,62.0,353.0,402.0,86.0,197.0,41.0,732.0,42.0,223.0,720.0,39.0,290.0,2779.0,140.0,164.0,2638.0,62.0,244.0],\"type\":\"bar\"};\n",
       "\n",
       "  var data = [data0, data1];\n",
       "  var layout = {\"barmode\":\"group\"};\n",
       " var config = {};\n",
       "\n",
       "  Plotly.plot('plot-62315198-33bf-4b86-8063-5457041c942f', data, layout, config);\n",
       "})();\n",
       "});\n",
       "      </script>\n",
       "           "
      ]
     },
     "metadata": {},
     "output_type": "display_data"
    },
    {
     "data": {
      "text/plain": [
       "\u001b[36mtrace_gender1\u001b[39m: \u001b[32mBar\u001b[39m = \u001b[33mBar\u001b[39m(\n",
       "  \u001b[33mStrings\u001b[39m(\n",
       "    \u001b[33mWrappedArray\u001b[39m(\n",
       "      \u001b[32m\"C-10417127108\"\u001b[39m,\n",
       "      \u001b[32m\"C-10424065948\"\u001b[39m,\n",
       "      \u001b[32m\"C-10393621238\"\u001b[39m,\n",
       "      \u001b[32m\"C-10399224101\"\u001b[39m,\n",
       "      \u001b[32m\"C-10425274320\"\u001b[39m,\n",
       "      \u001b[32m\"C-10401935333\"\u001b[39m,\n",
       "      \u001b[32m\"C-10408209383\"\u001b[39m,\n",
       "      \u001b[32m\"C-10395467357\"\u001b[39m,\n",
       "      \u001b[32m\"C-26334910464\"\u001b[39m,\n",
       "      \u001b[32m\"C-10418754394\"\u001b[39m,\n",
       "      \u001b[32m\"C-10405794288\"\u001b[39m,\n",
       "      \u001b[32m\"C-10394079228\"\u001b[39m,\n",
       "      \u001b[32m\"C-10394605145\"\u001b[39m,\n",
       "      \u001b[32m\"C-10423428619\"\u001b[39m,\n",
       "      \u001b[32m\"C-10425905274\"\u001b[39m,\n",
       "      \u001b[32m\"C-10410580805\"\u001b[39m,\n",
       "      \u001b[32m\"C-10414930207\"\u001b[39m,\n",
       "      \u001b[32m\"C-10402425385\"\u001b[39m,\n",
       "      \u001b[32m\"C-10405620585\"\u001b[39m,\n",
       "      \u001b[32m\"C-10399865285\"\u001b[39m,\n",
       "      \u001b[32m\"C-10397453891\"\u001b[39m,\n",
       "      \u001b[32m\"C-10404374905\"\u001b[39m,\n",
       "      \u001b[32m\"C-10404540364\"\u001b[39m,\n",
       "      \u001b[32m\"C-10408281200\"\u001b[39m,\n",
       "      \u001b[32m\"C-10418580649\"\u001b[39m,\n",
       "      \u001b[32m\"C-10424568667\"\u001b[39m,\n",
       "      \u001b[32m\"C-10399201022\"\u001b[39m,\n",
       "      \u001b[32m\"C-10403255122\"\u001b[39m,\n",
       "      \u001b[32m\"C-10403797723\"\u001b[39m,\n",
       "      \u001b[32m\"C-10403555674\"\u001b[39m,\n",
       "      \u001b[32m\"C-10419209718\"\u001b[39m,\n",
       "      \u001b[32m\"C-10425587057\"\u001b[39m,\n",
       "      \u001b[32m\"C-10419484235\"\u001b[39m,\n",
       "      \u001b[32m\"C-10423933302\"\u001b[39m,\n",
       "      \u001b[32m\"C-10393631600\"\u001b[39m,\n",
       "      \u001b[32m\"C-10407624473\"\u001b[39m,\n",
       "...\n",
       "\u001b[36mtrace_gender2\u001b[39m: \u001b[32mBar\u001b[39m = \u001b[33mBar\u001b[39m(\n",
       "  \u001b[33mStrings\u001b[39m(\n",
       "    \u001b[33mWrappedArray\u001b[39m(\n",
       "      \u001b[32m\"C-10417127108\"\u001b[39m,\n",
       "      \u001b[32m\"C-10424065948\"\u001b[39m,\n",
       "      \u001b[32m\"C-10393621238\"\u001b[39m,\n",
       "      \u001b[32m\"C-10399224101\"\u001b[39m,\n",
       "      \u001b[32m\"C-10425274320\"\u001b[39m,\n",
       "      \u001b[32m\"C-10401935333\"\u001b[39m,\n",
       "      \u001b[32m\"C-10408209383\"\u001b[39m,\n",
       "      \u001b[32m\"C-10395467357\"\u001b[39m,\n",
       "      \u001b[32m\"C-26334910464\"\u001b[39m,\n",
       "      \u001b[32m\"C-10418754394\"\u001b[39m,\n",
       "      \u001b[32m\"C-10405794288\"\u001b[39m,\n",
       "      \u001b[32m\"C-10394079228\"\u001b[39m,\n",
       "      \u001b[32m\"C-10394605145\"\u001b[39m,\n",
       "      \u001b[32m\"C-10423428619\"\u001b[39m,\n",
       "      \u001b[32m\"C-10425905274\"\u001b[39m,\n",
       "      \u001b[32m\"C-10410580805\"\u001b[39m,\n",
       "      \u001b[32m\"C-10414930207\"\u001b[39m,\n",
       "      \u001b[32m\"C-10402425385\"\u001b[39m,\n",
       "      \u001b[32m\"C-10405620585\"\u001b[39m,\n",
       "      \u001b[32m\"C-10399865285\"\u001b[39m,\n",
       "      \u001b[32m\"C-10397453891\"\u001b[39m,\n",
       "      \u001b[32m\"C-10404374905\"\u001b[39m,\n",
       "      \u001b[32m\"C-10404540364\"\u001b[39m,\n",
       "      \u001b[32m\"C-10408281200\"\u001b[39m,\n",
       "      \u001b[32m\"C-10418580649\"\u001b[39m,\n",
       "      \u001b[32m\"C-10424568667\"\u001b[39m,\n",
       "      \u001b[32m\"C-10399201022\"\u001b[39m,\n",
       "      \u001b[32m\"C-10403255122\"\u001b[39m,\n",
       "      \u001b[32m\"C-10403797723\"\u001b[39m,\n",
       "      \u001b[32m\"C-10403555674\"\u001b[39m,\n",
       "      \u001b[32m\"C-10419209718\"\u001b[39m,\n",
       "      \u001b[32m\"C-10425587057\"\u001b[39m,\n",
       "      \u001b[32m\"C-10419484235\"\u001b[39m,\n",
       "      \u001b[32m\"C-10423933302\"\u001b[39m,\n",
       "      \u001b[32m\"C-10393631600\"\u001b[39m,\n",
       "      \u001b[32m\"C-10407624473\"\u001b[39m,\n",
       "...\n",
       "\u001b[36mplot_data\u001b[39m: \u001b[32mSeq\u001b[39m[\u001b[32mBar\u001b[39m] = \u001b[33mList\u001b[39m(\n",
       "  \u001b[33mBar\u001b[39m(\n",
       "    \u001b[33mStrings\u001b[39m(\n",
       "      \u001b[33mWrappedArray\u001b[39m(\n",
       "        \u001b[32m\"C-10417127108\"\u001b[39m,\n",
       "        \u001b[32m\"C-10424065948\"\u001b[39m,\n",
       "        \u001b[32m\"C-10393621238\"\u001b[39m,\n",
       "        \u001b[32m\"C-10399224101\"\u001b[39m,\n",
       "        \u001b[32m\"C-10425274320\"\u001b[39m,\n",
       "        \u001b[32m\"C-10401935333\"\u001b[39m,\n",
       "        \u001b[32m\"C-10408209383\"\u001b[39m,\n",
       "        \u001b[32m\"C-10395467357\"\u001b[39m,\n",
       "        \u001b[32m\"C-26334910464\"\u001b[39m,\n",
       "        \u001b[32m\"C-10418754394\"\u001b[39m,\n",
       "        \u001b[32m\"C-10405794288\"\u001b[39m,\n",
       "        \u001b[32m\"C-10394079228\"\u001b[39m,\n",
       "        \u001b[32m\"C-10394605145\"\u001b[39m,\n",
       "        \u001b[32m\"C-10423428619\"\u001b[39m,\n",
       "        \u001b[32m\"C-10425905274\"\u001b[39m,\n",
       "        \u001b[32m\"C-10410580805\"\u001b[39m,\n",
       "        \u001b[32m\"C-10414930207\"\u001b[39m,\n",
       "        \u001b[32m\"C-10402425385\"\u001b[39m,\n",
       "        \u001b[32m\"C-10405620585\"\u001b[39m,\n",
       "        \u001b[32m\"C-10399865285\"\u001b[39m,\n",
       "        \u001b[32m\"C-10397453891\"\u001b[39m,\n",
       "        \u001b[32m\"C-10404374905\"\u001b[39m,\n",
       "        \u001b[32m\"C-10404540364\"\u001b[39m,\n",
       "        \u001b[32m\"C-10408281200\"\u001b[39m,\n",
       "        \u001b[32m\"C-10418580649\"\u001b[39m,\n",
       "        \u001b[32m\"C-10424568667\"\u001b[39m,\n",
       "        \u001b[32m\"C-10399201022\"\u001b[39m,\n",
       "        \u001b[32m\"C-10403255122\"\u001b[39m,\n",
       "        \u001b[32m\"C-10403797723\"\u001b[39m,\n",
       "        \u001b[32m\"C-10403555674\"\u001b[39m,\n",
       "        \u001b[32m\"C-10419209718\"\u001b[39m,\n",
       "        \u001b[32m\"C-10425587057\"\u001b[39m,\n",
       "        \u001b[32m\"C-10419484235\"\u001b[39m,\n",
       "        \u001b[32m\"C-10423933302\"\u001b[39m,\n",
       "        \u001b[32m\"C-10393631600\"\u001b[39m,\n",
       "...\n",
       "\u001b[36mplot_layout\u001b[39m: \u001b[32mLayout\u001b[39m = \u001b[33mLayout\u001b[39m(\n",
       "  \u001b[32mNone\u001b[39m,\n",
       "  \u001b[32mNone\u001b[39m,\n",
       "  \u001b[32mNone\u001b[39m,\n",
       "  \u001b[32mNone\u001b[39m,\n",
       "  \u001b[32mNone\u001b[39m,\n",
       "  \u001b[32mNone\u001b[39m,\n",
       "  \u001b[32mNone\u001b[39m,\n",
       "  \u001b[32mNone\u001b[39m,\n",
       "  \u001b[32mNone\u001b[39m,\n",
       "  \u001b[32mNone\u001b[39m,\n",
       "  \u001b[32mNone\u001b[39m,\n",
       "  \u001b[32mNone\u001b[39m,\n",
       "  \u001b[32mNone\u001b[39m,\n",
       "  \u001b[32mNone\u001b[39m,\n",
       "  \u001b[32mNone\u001b[39m,\n",
       "  \u001b[33mSome\u001b[39m(Group),\n",
       "  \u001b[32mNone\u001b[39m,\n",
       "  \u001b[32mNone\u001b[39m,\n",
       "  \u001b[32mNone\u001b[39m,\n",
       "  \u001b[32mNone\u001b[39m,\n",
       "  \u001b[32mNone\u001b[39m,\n",
       "  \u001b[32mNone\u001b[39m,\n",
       "  \u001b[32mNone\u001b[39m,\n",
       "  \u001b[32mNone\u001b[39m,\n",
       "  \u001b[32mNone\u001b[39m,\n",
       "  \u001b[32mNone\u001b[39m,\n",
       "  \u001b[32mNone\u001b[39m,\n",
       "  \u001b[32mNone\u001b[39m,\n",
       "  \u001b[32mNone\u001b[39m,\n",
       "  \u001b[32mNone\u001b[39m\n",
       ")\n",
       "\u001b[36mres33_4\u001b[39m: \u001b[32mString\u001b[39m = \u001b[32m\"plot-62315198-33bf-4b86-8063-5457041c942f\"\u001b[39m"
      ]
     },
     "execution_count": 34,
     "metadata": {},
     "output_type": "execute_result"
    }
   ],
   "source": [
    "val trace_gender1 = Bar(\n",
    "    genders_with_countries.map(x => \"C-\" + x(0).asInstanceOf[Long].toString).toSeq,\n",
    "    genders_with_countries.map(x => x(2).asInstanceOf[ WrappedArray[Long]](0)).toSeq,\n",
    "    name = \"Gender 1\"\n",
    ")\n",
    "    \n",
    "val trace_gender2 = Bar(\n",
    "    genders_with_countries.map(x => \"C-\" + x(0).asInstanceOf[Long].toString).toSeq,\n",
    "    genders_with_countries.map(x => x(2).asInstanceOf[ WrappedArray[Long]](1)).toSeq,\n",
    "    name = \"Gender 2\"\n",
    ")\n",
    "\n",
    "val plot_data = Seq(trace_gender1, trace_gender2)\n",
    "\n",
    "val plot_layout = Layout(\n",
    "    barmode = BarMode.Group\n",
    ")\n",
    "\n",
    "    plot(plot_data, plot_layout)"
   ]
  },
  {
   "cell_type": "markdown",
   "metadata": {},
   "source": [
    "Из диаграммы видно, что для стран с наиболее активными пользователями доля Gender2 значительно выше доли Gender1."
   ]
  },
  {
   "cell_type": "markdown",
   "metadata": {},
   "source": [
    "#### Выводы:\n",
    "\n",
    "В процессе выполнения работы был получен датасет, содержащий логи показов контента из открытых групп в новостных лентах социальной сети \"Одноклассники\" пользователей за февраль-март 2018 года. Данный датасет был загружен в систему Apache Spark и проанализирован с его помощью. Были построены гистограммы самых популярных групп для каждого типа обьекта, популярности объектов и активности пользователей по времени суток. Была рассчитана корреляция между целевой переменной и некоторыми выбранными признаками с помощью $\\chi ^2$-теста. Анализ показал сильную корреляцию признаков. Корректность расчета была проверена на одной паре признаков с помощью расчета статистики $\\chi ^2$ без использования MLLib. Дополнительно были проведены исследования распределения пользователей по полу, возрасту и стране проживания, отмечены особенности полученных результатов.\n",
    "\n",
    "В результате работы были получены навыки работы с DataFrame API Apache Spark на языке Scala, изучены основные методы работы с датафреймами."
   ]
  }
 ],
 "metadata": {
  "kernelspec": {
   "display_name": "Scala 2.12",
   "language": "scala",
   "name": "scala212"
  },
  "language_info": {
   "codemirror_mode": "text/x-scala",
   "file_extension": ".sc",
   "mimetype": "text/x-scala",
   "name": "scala",
   "nbconvert_exporter": "script",
   "version": "2.12.12"
  }
 },
 "nbformat": 4,
 "nbformat_minor": 4
}
